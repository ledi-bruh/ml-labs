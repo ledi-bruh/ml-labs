{
 "cells": [
  {
   "cell_type": "code",
   "execution_count": 1,
   "metadata": {},
   "outputs": [],
   "source": [
    "import os\n",
    "import sys\n",
    "from pathlib import Path\n",
    "\n",
    "from math import sqrt\n",
    "from dateutil.parser import parse\n",
    "import pandas as pd\n",
    "import numpy as np\n",
    "import matplotlib.pyplot as plt\n",
    "from sklearn.model_selection import train_test_split, GridSearchCV\n",
    "from sklearn.metrics import mean_squared_error, mean_absolute_error, mean_absolute_percentage_error, r2_score, accuracy_score\n",
    "from sklearn.metrics import confusion_matrix, classification_report, RocCurveDisplay\n",
    "from sklearn.pipeline import Pipeline\n",
    "from sklearn.compose import ColumnTransformer\n",
    "from sklearn.impute import SimpleImputer\n",
    "from sklearn.preprocessing import StandardScaler, OrdinalEncoder, FunctionTransformer\n",
    "\n",
    "from sklearn.utils import resample\n",
    "from imblearn.over_sampling import SMOTE\n",
    "from sklearn.tree import DecisionTreeClassifier, DecisionTreeRegressor\n",
    "from sklearn.ensemble import BaggingClassifier, BaggingRegressor, GradientBoostingClassifier, GradientBoostingRegressor, StackingClassifier, StackingRegressor\n",
    "from xgboost import XGBClassifier, XGBRegressor\n",
    "from catboost import CatBoostClassifier, CatBoostRegressor"
   ]
  },
  {
   "cell_type": "code",
   "execution_count": 2,
   "metadata": {},
   "outputs": [],
   "source": [
    "import warnings\n",
    "\n",
    "\n",
    "if not sys.warnoptions:\n",
    "    warnings.simplefilter(\"ignore\")\n",
    "    os.environ[\"PYTHONWARNINGS\"] = \"ignore\""
   ]
  },
  {
   "cell_type": "code",
   "execution_count": 3,
   "metadata": {},
   "outputs": [],
   "source": [
    "seed = 73"
   ]
  },
  {
   "cell_type": "code",
   "execution_count": 4,
   "metadata": {},
   "outputs": [],
   "source": [
    "wine = pd.read_csv('../data/winequality.csv', sep=';')\n",
    "rain = pd.read_csv('../data/weatherAUS.csv', sep=',')"
   ]
  },
  {
   "attachments": {},
   "cell_type": "markdown",
   "metadata": {},
   "source": [
    "## Предобработка"
   ]
  },
  {
   "attachments": {},
   "cell_type": "markdown",
   "metadata": {},
   "source": [
    "### Винишко"
   ]
  },
  {
   "cell_type": "code",
   "execution_count": 5,
   "metadata": {},
   "outputs": [
    {
     "data": {
      "text/html": [
       "<div>\n",
       "<style scoped>\n",
       "    .dataframe tbody tr th:only-of-type {\n",
       "        vertical-align: middle;\n",
       "    }\n",
       "\n",
       "    .dataframe tbody tr th {\n",
       "        vertical-align: top;\n",
       "    }\n",
       "\n",
       "    .dataframe thead th {\n",
       "        text-align: right;\n",
       "    }\n",
       "</style>\n",
       "<table border=\"1\" class=\"dataframe\">\n",
       "  <thead>\n",
       "    <tr style=\"text-align: right;\">\n",
       "      <th></th>\n",
       "      <th>fixed acidity</th>\n",
       "      <th>volatile acidity</th>\n",
       "      <th>citric acid</th>\n",
       "      <th>residual sugar</th>\n",
       "      <th>chlorides</th>\n",
       "      <th>free sulfur dioxide</th>\n",
       "      <th>total sulfur dioxide</th>\n",
       "      <th>density</th>\n",
       "      <th>pH</th>\n",
       "      <th>sulphates</th>\n",
       "      <th>alcohol</th>\n",
       "      <th>quality</th>\n",
       "      <th>wine type</th>\n",
       "    </tr>\n",
       "  </thead>\n",
       "  <tbody>\n",
       "    <tr>\n",
       "      <th>0</th>\n",
       "      <td>7.4</td>\n",
       "      <td>0.70</td>\n",
       "      <td>0.00</td>\n",
       "      <td>1.9</td>\n",
       "      <td>0.076</td>\n",
       "      <td>11.0</td>\n",
       "      <td>34.0</td>\n",
       "      <td>0.9978</td>\n",
       "      <td>3.51</td>\n",
       "      <td>0.56</td>\n",
       "      <td>9.4</td>\n",
       "      <td>5</td>\n",
       "      <td>red</td>\n",
       "    </tr>\n",
       "    <tr>\n",
       "      <th>1</th>\n",
       "      <td>7.8</td>\n",
       "      <td>0.88</td>\n",
       "      <td>0.00</td>\n",
       "      <td>2.6</td>\n",
       "      <td>0.098</td>\n",
       "      <td>25.0</td>\n",
       "      <td>67.0</td>\n",
       "      <td>0.9968</td>\n",
       "      <td>3.20</td>\n",
       "      <td>0.68</td>\n",
       "      <td>9.8</td>\n",
       "      <td>5</td>\n",
       "      <td>red</td>\n",
       "    </tr>\n",
       "    <tr>\n",
       "      <th>2</th>\n",
       "      <td>7.8</td>\n",
       "      <td>0.76</td>\n",
       "      <td>0.04</td>\n",
       "      <td>2.3</td>\n",
       "      <td>0.092</td>\n",
       "      <td>15.0</td>\n",
       "      <td>54.0</td>\n",
       "      <td>0.9970</td>\n",
       "      <td>3.26</td>\n",
       "      <td>0.65</td>\n",
       "      <td>9.8</td>\n",
       "      <td>5</td>\n",
       "      <td>red</td>\n",
       "    </tr>\n",
       "  </tbody>\n",
       "</table>\n",
       "</div>"
      ],
      "text/plain": [
       "   fixed acidity  volatile acidity  citric acid  residual sugar  chlorides  \\\n",
       "0            7.4              0.70         0.00             1.9      0.076   \n",
       "1            7.8              0.88         0.00             2.6      0.098   \n",
       "2            7.8              0.76         0.04             2.3      0.092   \n",
       "\n",
       "   free sulfur dioxide  total sulfur dioxide  density    pH  sulphates  \\\n",
       "0                 11.0                  34.0   0.9978  3.51       0.56   \n",
       "1                 25.0                  67.0   0.9968  3.20       0.68   \n",
       "2                 15.0                  54.0   0.9970  3.26       0.65   \n",
       "\n",
       "   alcohol  quality wine type  \n",
       "0      9.4        5       red  \n",
       "1      9.8        5       red  \n",
       "2      9.8        5       red  "
      ]
     },
     "execution_count": 5,
     "metadata": {},
     "output_type": "execute_result"
    }
   ],
   "source": [
    "wine.head(3)"
   ]
  },
  {
   "cell_type": "code",
   "execution_count": 6,
   "metadata": {},
   "outputs": [
    {
     "data": {
      "text/html": [
       "<div>\n",
       "<style scoped>\n",
       "    .dataframe tbody tr th:only-of-type {\n",
       "        vertical-align: middle;\n",
       "    }\n",
       "\n",
       "    .dataframe tbody tr th {\n",
       "        vertical-align: top;\n",
       "    }\n",
       "\n",
       "    .dataframe thead th {\n",
       "        text-align: right;\n",
       "    }\n",
       "</style>\n",
       "<table border=\"1\" class=\"dataframe\">\n",
       "  <thead>\n",
       "    <tr style=\"text-align: right;\">\n",
       "      <th></th>\n",
       "      <th>fixed acidity</th>\n",
       "      <th>volatile acidity</th>\n",
       "      <th>citric acid</th>\n",
       "      <th>residual sugar</th>\n",
       "      <th>chlorides</th>\n",
       "      <th>free sulfur dioxide</th>\n",
       "      <th>total sulfur dioxide</th>\n",
       "      <th>density</th>\n",
       "      <th>pH</th>\n",
       "      <th>sulphates</th>\n",
       "      <th>alcohol</th>\n",
       "      <th>quality</th>\n",
       "      <th>wine type</th>\n",
       "    </tr>\n",
       "  </thead>\n",
       "  <tbody>\n",
       "    <tr>\n",
       "      <th>0</th>\n",
       "      <td>0.142473</td>\n",
       "      <td>2.188833</td>\n",
       "      <td>-2.192833</td>\n",
       "      <td>-0.744778</td>\n",
       "      <td>0.569958</td>\n",
       "      <td>-1.100140</td>\n",
       "      <td>-1.446359</td>\n",
       "      <td>1.034993</td>\n",
       "      <td>1.813090</td>\n",
       "      <td>0.193097</td>\n",
       "      <td>-0.915464</td>\n",
       "      <td>5</td>\n",
       "      <td>0</td>\n",
       "    </tr>\n",
       "    <tr>\n",
       "      <th>1</th>\n",
       "      <td>0.451036</td>\n",
       "      <td>3.282235</td>\n",
       "      <td>-2.192833</td>\n",
       "      <td>-0.597640</td>\n",
       "      <td>1.197975</td>\n",
       "      <td>-0.311320</td>\n",
       "      <td>-0.862469</td>\n",
       "      <td>0.701486</td>\n",
       "      <td>-0.115073</td>\n",
       "      <td>0.999579</td>\n",
       "      <td>-0.580068</td>\n",
       "      <td>5</td>\n",
       "      <td>0</td>\n",
       "    </tr>\n",
       "    <tr>\n",
       "      <th>2</th>\n",
       "      <td>0.451036</td>\n",
       "      <td>2.553300</td>\n",
       "      <td>-1.917553</td>\n",
       "      <td>-0.660699</td>\n",
       "      <td>1.026697</td>\n",
       "      <td>-0.874763</td>\n",
       "      <td>-1.092486</td>\n",
       "      <td>0.768188</td>\n",
       "      <td>0.258120</td>\n",
       "      <td>0.797958</td>\n",
       "      <td>-0.580068</td>\n",
       "      <td>5</td>\n",
       "      <td>0</td>\n",
       "    </tr>\n",
       "  </tbody>\n",
       "</table>\n",
       "</div>"
      ],
      "text/plain": [
       "   fixed acidity  volatile acidity  citric acid  residual sugar  chlorides  \\\n",
       "0       0.142473          2.188833    -2.192833       -0.744778   0.569958   \n",
       "1       0.451036          3.282235    -2.192833       -0.597640   1.197975   \n",
       "2       0.451036          2.553300    -1.917553       -0.660699   1.026697   \n",
       "\n",
       "   free sulfur dioxide  total sulfur dioxide   density        pH  sulphates  \\\n",
       "0            -1.100140             -1.446359  1.034993  1.813090   0.193097   \n",
       "1            -0.311320             -0.862469  0.701486 -0.115073   0.999579   \n",
       "2            -0.874763             -1.092486  0.768188  0.258120   0.797958   \n",
       "\n",
       "    alcohol  quality  wine type  \n",
       "0 -0.915464        5          0  \n",
       "1 -0.580068        5          0  \n",
       "2 -0.580068        5          0  "
      ]
     },
     "execution_count": 6,
     "metadata": {},
     "output_type": "execute_result"
    }
   ],
   "source": [
    "wine_target = 'quality'\n",
    "wine_cat = ['wine type',]\n",
    "wine_num = list(set(wine.columns) - set(wine_cat) - {wine_target})\n",
    "\n",
    "wine['wine type'] = wine['wine type'].map({'red': 0, 'white': 1})\n",
    "wine[wine_num] = StandardScaler().fit_transform(wine[wine_num])\n",
    "\n",
    "wine.head(3)"
   ]
  },
  {
   "attachments": {},
   "cell_type": "markdown",
   "metadata": {},
   "source": [
    "### Дождик"
   ]
  },
  {
   "cell_type": "code",
   "execution_count": 7,
   "metadata": {},
   "outputs": [
    {
     "data": {
      "text/html": [
       "<div>\n",
       "<style scoped>\n",
       "    .dataframe tbody tr th:only-of-type {\n",
       "        vertical-align: middle;\n",
       "    }\n",
       "\n",
       "    .dataframe tbody tr th {\n",
       "        vertical-align: top;\n",
       "    }\n",
       "\n",
       "    .dataframe thead th {\n",
       "        text-align: right;\n",
       "    }\n",
       "</style>\n",
       "<table border=\"1\" class=\"dataframe\">\n",
       "  <thead>\n",
       "    <tr style=\"text-align: right;\">\n",
       "      <th></th>\n",
       "      <th>Date</th>\n",
       "      <th>Location</th>\n",
       "      <th>MinTemp</th>\n",
       "      <th>MaxTemp</th>\n",
       "      <th>Rainfall</th>\n",
       "      <th>Evaporation</th>\n",
       "      <th>Sunshine</th>\n",
       "      <th>WindGustDir</th>\n",
       "      <th>WindGustSpeed</th>\n",
       "      <th>WindDir9am</th>\n",
       "      <th>...</th>\n",
       "      <th>Humidity9am</th>\n",
       "      <th>Humidity3pm</th>\n",
       "      <th>Pressure9am</th>\n",
       "      <th>Pressure3pm</th>\n",
       "      <th>Cloud9am</th>\n",
       "      <th>Cloud3pm</th>\n",
       "      <th>Temp9am</th>\n",
       "      <th>Temp3pm</th>\n",
       "      <th>RainToday</th>\n",
       "      <th>RainTomorrow</th>\n",
       "    </tr>\n",
       "  </thead>\n",
       "  <tbody>\n",
       "    <tr>\n",
       "      <th>0</th>\n",
       "      <td>2008-12-01</td>\n",
       "      <td>Albury</td>\n",
       "      <td>13.4</td>\n",
       "      <td>22.9</td>\n",
       "      <td>0.6</td>\n",
       "      <td>NaN</td>\n",
       "      <td>NaN</td>\n",
       "      <td>W</td>\n",
       "      <td>44.0</td>\n",
       "      <td>W</td>\n",
       "      <td>...</td>\n",
       "      <td>71.0</td>\n",
       "      <td>22.0</td>\n",
       "      <td>1007.7</td>\n",
       "      <td>1007.1</td>\n",
       "      <td>8.0</td>\n",
       "      <td>NaN</td>\n",
       "      <td>16.9</td>\n",
       "      <td>21.8</td>\n",
       "      <td>No</td>\n",
       "      <td>No</td>\n",
       "    </tr>\n",
       "    <tr>\n",
       "      <th>1</th>\n",
       "      <td>2008-12-02</td>\n",
       "      <td>Albury</td>\n",
       "      <td>7.4</td>\n",
       "      <td>25.1</td>\n",
       "      <td>0.0</td>\n",
       "      <td>NaN</td>\n",
       "      <td>NaN</td>\n",
       "      <td>WNW</td>\n",
       "      <td>44.0</td>\n",
       "      <td>NNW</td>\n",
       "      <td>...</td>\n",
       "      <td>44.0</td>\n",
       "      <td>25.0</td>\n",
       "      <td>1010.6</td>\n",
       "      <td>1007.8</td>\n",
       "      <td>NaN</td>\n",
       "      <td>NaN</td>\n",
       "      <td>17.2</td>\n",
       "      <td>24.3</td>\n",
       "      <td>No</td>\n",
       "      <td>No</td>\n",
       "    </tr>\n",
       "    <tr>\n",
       "      <th>2</th>\n",
       "      <td>2008-12-03</td>\n",
       "      <td>Albury</td>\n",
       "      <td>12.9</td>\n",
       "      <td>25.7</td>\n",
       "      <td>0.0</td>\n",
       "      <td>NaN</td>\n",
       "      <td>NaN</td>\n",
       "      <td>WSW</td>\n",
       "      <td>46.0</td>\n",
       "      <td>W</td>\n",
       "      <td>...</td>\n",
       "      <td>38.0</td>\n",
       "      <td>30.0</td>\n",
       "      <td>1007.6</td>\n",
       "      <td>1008.7</td>\n",
       "      <td>NaN</td>\n",
       "      <td>2.0</td>\n",
       "      <td>21.0</td>\n",
       "      <td>23.2</td>\n",
       "      <td>No</td>\n",
       "      <td>No</td>\n",
       "    </tr>\n",
       "  </tbody>\n",
       "</table>\n",
       "<p>3 rows × 23 columns</p>\n",
       "</div>"
      ],
      "text/plain": [
       "         Date Location  MinTemp  MaxTemp  Rainfall  Evaporation  Sunshine  \\\n",
       "0  2008-12-01   Albury     13.4     22.9       0.6          NaN       NaN   \n",
       "1  2008-12-02   Albury      7.4     25.1       0.0          NaN       NaN   \n",
       "2  2008-12-03   Albury     12.9     25.7       0.0          NaN       NaN   \n",
       "\n",
       "  WindGustDir  WindGustSpeed WindDir9am  ... Humidity9am  Humidity3pm  \\\n",
       "0           W           44.0          W  ...        71.0         22.0   \n",
       "1         WNW           44.0        NNW  ...        44.0         25.0   \n",
       "2         WSW           46.0          W  ...        38.0         30.0   \n",
       "\n",
       "   Pressure9am  Pressure3pm  Cloud9am  Cloud3pm  Temp9am  Temp3pm  RainToday  \\\n",
       "0       1007.7       1007.1       8.0       NaN     16.9     21.8         No   \n",
       "1       1010.6       1007.8       NaN       NaN     17.2     24.3         No   \n",
       "2       1007.6       1008.7       NaN       2.0     21.0     23.2         No   \n",
       "\n",
       "   RainTomorrow  \n",
       "0            No  \n",
       "1            No  \n",
       "2            No  \n",
       "\n",
       "[3 rows x 23 columns]"
      ]
     },
     "execution_count": 7,
     "metadata": {},
     "output_type": "execute_result"
    }
   ],
   "source": [
    "rain.head(3)"
   ]
  },
  {
   "cell_type": "code",
   "execution_count": 8,
   "metadata": {},
   "outputs": [],
   "source": [
    "rain_target = 'RainTomorrow'\n",
    "rain_cat = ('RainToday', 'RainTomorrow', 'WindGustDir', 'WindDir9am', 'WindDir3pm', 'Location')\n",
    "rain_num = tuple(set(rain.columns) - set(rain_cat) - {rain_target, 'Date'})\n",
    "\n",
    "def convert_to_datetime(X):\n",
    "    X = X.astype(str)\n",
    "    return pd.to_datetime(X)\n",
    "\n",
    "from datetime import datetime\n",
    "def extract_year(X):\n",
    "    print(type(X))\n",
    "    print(X.astype(str).apply(lambda x: datetime.strptime(x.astype(str), '%Y-%m-%d')))\n",
    "    return X.astype(str).apply(lambda x: datetime.strptime(x, '%Y-%m-%d'))\n",
    "    return X.apply(lambda x: parse(str(x)).year)\n",
    "    return X.apply(lambda x: datetime.strptime(x, '%Y-%m-%d'))\n",
    "    return X.apply(lambda x: datetime.strptime(x, '%Y-%m-%d').year)\n",
    "\n",
    "# def extract_month(X):\n",
    "#     return X.apply(lambda x: datetime.strptime(x, '%Y-%m-%d').month)\n",
    "\n",
    "# def extract_day(X):\n",
    "#     return X.apply(lambda x: datetime.strptime(x, '%Y-%m-%d').day)\n",
    "\n",
    "\n",
    "numeric_transformer = Pipeline(steps=[\n",
    "    ('imputer', SimpleImputer(strategy='mean')),\n",
    "    ('scaler', StandardScaler())\n",
    "])\n",
    "categorical_transformer = Pipeline(steps=[\n",
    "    ('imputer', SimpleImputer(strategy='most_frequent')),\n",
    "    ('encoder', OrdinalEncoder(handle_unknown='use_encoded_value', unknown_value=-1))\n",
    "])\n",
    "\n",
    "rain_preprocessor = ColumnTransformer(transformers=[\n",
    "    # ('drop', FunctionTransformer(\n",
    "    #     pd.DataFrame.drop,\n",
    "    #     kw_args={'columns': ['Date']}), ['Date']),\n",
    "    ('date', FunctionTransformer(convert_to_datetime), ['Date']),\n",
    "    # ('year', FunctionTransformer(extract_year), ['Date']),\n",
    "    # ('month', FunctionTransformer(extract_month), ['Date']),\n",
    "    # ('day', FunctionTransformer(extract_day), ['Date']),\n",
    "    # ('num', numeric_transformer, rain_num),\n",
    "    # ('cat', categorical_transformer, rain_cat)\n",
    "], remainder='passthrough')\n",
    "\n",
    "# rain = rain_preprocessor.fit_transform(rain)\n",
    "# display(rain)"
   ]
  },
  {
   "cell_type": "code",
   "execution_count": 9,
   "metadata": {},
   "outputs": [],
   "source": [
    "rain['Date'] = rain['Date'].apply(parse)\n",
    "rain['Day'] = rain['Date'].apply(lambda x: x.day)\n",
    "rain['Month'] = rain['Date'].apply(lambda x: x.month)\n",
    "rain.drop(columns=['Date'], inplace=True)\n",
    "\n",
    "for col in (\n",
    "    'MinTemp', 'MaxTemp', 'Rainfall', 'Evaporation', 'Sunshine', 'WindGustSpeed', 'WindSpeed9am',\n",
    "    'WindSpeed3pm', 'Humidity9am', 'Humidity3pm', 'Pressure9am', 'Pressure3pm', 'Cloud9am', 'Cloud3pm', 'Temp9am', 'Temp3pm'\n",
    "    ):\n",
    "    rain[col].fillna(rain[col].mean(), inplace=True)\n",
    "\n",
    "for col in ('WindGustDir', 'WindDir9am', 'WindDir3pm', 'RainToday', 'RainTomorrow'):\n",
    "    rain[col].fillna(rain[col].mode()[0], inplace=True)\n",
    "\n",
    "for col in ('RainToday', 'RainTomorrow'):\n",
    "    rain[col] = rain[col].map({'No': 0, 'Yes': 1})\n",
    "\n",
    "dirs = rain['WindGustDir'].unique()\n",
    "for col in ('WindGustDir', 'WindDir9am', 'WindDir3pm'):\n",
    "    rain[col] = rain[col].map({k: v for v, k in enumerate(dirs)})\n",
    "\n",
    "# rain = pd.get_dummies(rain, ['Location'])\n",
    "rain['Location'] = rain['Location'].map({k: v for v, k in enumerate(rain['Location'].unique())})\n",
    "\n",
    "for col in set(rain.columns) - {'RainToday', 'RainTomorrow'}:\n",
    "    rain[col] = (rain[col] - np.mean(rain[col])) / np.std(rain[col])"
   ]
  },
  {
   "cell_type": "code",
   "execution_count": 10,
   "metadata": {},
   "outputs": [
    {
     "data": {
      "text/html": [
       "<div>\n",
       "<style scoped>\n",
       "    .dataframe tbody tr th:only-of-type {\n",
       "        vertical-align: middle;\n",
       "    }\n",
       "\n",
       "    .dataframe tbody tr th {\n",
       "        vertical-align: top;\n",
       "    }\n",
       "\n",
       "    .dataframe thead th {\n",
       "        text-align: right;\n",
       "    }\n",
       "</style>\n",
       "<table border=\"1\" class=\"dataframe\">\n",
       "  <thead>\n",
       "    <tr style=\"text-align: right;\">\n",
       "      <th></th>\n",
       "      <th>Location</th>\n",
       "      <th>MinTemp</th>\n",
       "      <th>MaxTemp</th>\n",
       "      <th>Rainfall</th>\n",
       "      <th>Evaporation</th>\n",
       "      <th>Sunshine</th>\n",
       "      <th>WindGustDir</th>\n",
       "      <th>WindGustSpeed</th>\n",
       "      <th>WindDir9am</th>\n",
       "      <th>WindDir3pm</th>\n",
       "      <th>...</th>\n",
       "      <th>Pressure9am</th>\n",
       "      <th>Pressure3pm</th>\n",
       "      <th>Cloud9am</th>\n",
       "      <th>Cloud3pm</th>\n",
       "      <th>Temp9am</th>\n",
       "      <th>Temp3pm</th>\n",
       "      <th>RainToday</th>\n",
       "      <th>RainTomorrow</th>\n",
       "      <th>Day</th>\n",
       "      <th>Month</th>\n",
       "    </tr>\n",
       "  </thead>\n",
       "  <tbody>\n",
       "    <tr>\n",
       "      <th>0</th>\n",
       "      <td>-1.689897</td>\n",
       "      <td>0.189447</td>\n",
       "      <td>-0.045336</td>\n",
       "      <td>-0.210072</td>\n",
       "      <td>-2.809331e-16</td>\n",
       "      <td>-6.508050e-16</td>\n",
       "      <td>-1.429626</td>\n",
       "      <td>0.302234</td>\n",
       "      <td>-1.677294</td>\n",
       "      <td>-1.424246</td>\n",
       "      <td>...</td>\n",
       "      <td>-1.478788</td>\n",
       "      <td>-1.223882</td>\n",
       "      <td>1.568037e+00</td>\n",
       "      <td>-8.487347e-16</td>\n",
       "      <td>-0.014053</td>\n",
       "      <td>0.017023</td>\n",
       "      <td>0</td>\n",
       "      <td>0</td>\n",
       "      <td>-1.672844</td>\n",
       "      <td>1.634076</td>\n",
       "    </tr>\n",
       "    <tr>\n",
       "      <th>1</th>\n",
       "      <td>-1.689897</td>\n",
       "      <td>-0.753101</td>\n",
       "      <td>0.265043</td>\n",
       "      <td>-0.281650</td>\n",
       "      <td>-2.809331e-16</td>\n",
       "      <td>-6.508050e-16</td>\n",
       "      <td>-1.225773</td>\n",
       "      <td>0.302234</td>\n",
       "      <td>-0.770458</td>\n",
       "      <td>-1.208871</td>\n",
       "      <td>...</td>\n",
       "      <td>-1.047782</td>\n",
       "      <td>-1.118839</td>\n",
       "      <td>-3.920285e-16</td>\n",
       "      <td>-8.487347e-16</td>\n",
       "      <td>0.032464</td>\n",
       "      <td>0.381985</td>\n",
       "      <td>0</td>\n",
       "      <td>0</td>\n",
       "      <td>-1.559140</td>\n",
       "      <td>1.634076</td>\n",
       "    </tr>\n",
       "    <tr>\n",
       "      <th>2</th>\n",
       "      <td>-1.689897</td>\n",
       "      <td>0.110901</td>\n",
       "      <td>0.349692</td>\n",
       "      <td>-0.281650</td>\n",
       "      <td>-2.809331e-16</td>\n",
       "      <td>-6.508050e-16</td>\n",
       "      <td>-1.021920</td>\n",
       "      <td>0.454694</td>\n",
       "      <td>-1.677294</td>\n",
       "      <td>-1.208871</td>\n",
       "      <td>...</td>\n",
       "      <td>-1.493650</td>\n",
       "      <td>-0.983784</td>\n",
       "      <td>-3.920285e-16</td>\n",
       "      <td>-1.199232e+00</td>\n",
       "      <td>0.621685</td>\n",
       "      <td>0.221402</td>\n",
       "      <td>0</td>\n",
       "      <td>0</td>\n",
       "      <td>-1.445436</td>\n",
       "      <td>1.634076</td>\n",
       "    </tr>\n",
       "  </tbody>\n",
       "</table>\n",
       "<p>3 rows × 24 columns</p>\n",
       "</div>"
      ],
      "text/plain": [
       "   Location   MinTemp   MaxTemp  Rainfall   Evaporation      Sunshine  \\\n",
       "0 -1.689897  0.189447 -0.045336 -0.210072 -2.809331e-16 -6.508050e-16   \n",
       "1 -1.689897 -0.753101  0.265043 -0.281650 -2.809331e-16 -6.508050e-16   \n",
       "2 -1.689897  0.110901  0.349692 -0.281650 -2.809331e-16 -6.508050e-16   \n",
       "\n",
       "   WindGustDir  WindGustSpeed  WindDir9am  WindDir3pm  ...  Pressure9am  \\\n",
       "0    -1.429626       0.302234   -1.677294   -1.424246  ...    -1.478788   \n",
       "1    -1.225773       0.302234   -0.770458   -1.208871  ...    -1.047782   \n",
       "2    -1.021920       0.454694   -1.677294   -1.208871  ...    -1.493650   \n",
       "\n",
       "   Pressure3pm      Cloud9am      Cloud3pm   Temp9am   Temp3pm  RainToday  \\\n",
       "0    -1.223882  1.568037e+00 -8.487347e-16 -0.014053  0.017023          0   \n",
       "1    -1.118839 -3.920285e-16 -8.487347e-16  0.032464  0.381985          0   \n",
       "2    -0.983784 -3.920285e-16 -1.199232e+00  0.621685  0.221402          0   \n",
       "\n",
       "   RainTomorrow       Day     Month  \n",
       "0             0 -1.672844  1.634076  \n",
       "1             0 -1.559140  1.634076  \n",
       "2             0 -1.445436  1.634076  \n",
       "\n",
       "[3 rows x 24 columns]"
      ]
     },
     "execution_count": 10,
     "metadata": {},
     "output_type": "execute_result"
    }
   ],
   "source": [
    "rain.head(3)"
   ]
  },
  {
   "attachments": {},
   "cell_type": "markdown",
   "metadata": {},
   "source": [
    "## Разделение"
   ]
  },
  {
   "cell_type": "code",
   "execution_count": 11,
   "metadata": {},
   "outputs": [
    {
     "data": {
      "text/plain": [
       "((6497, 12), (6497,))"
      ]
     },
     "execution_count": 11,
     "metadata": {},
     "output_type": "execute_result"
    }
   ],
   "source": [
    "X_wine = wine.drop(['quality'], axis=1)\n",
    "y_wine = wine['quality']\n",
    "X_wine.shape, y_wine.shape"
   ]
  },
  {
   "cell_type": "code",
   "execution_count": 12,
   "metadata": {},
   "outputs": [],
   "source": [
    "X_wine_train, X_wine_test, y_wine_train, y_wine_test = train_test_split(X_wine, y_wine, test_size=0.33)"
   ]
  },
  {
   "cell_type": "code",
   "execution_count": 13,
   "metadata": {},
   "outputs": [
    {
     "data": {
      "text/plain": [
       "0    113583\n",
       "1     31877\n",
       "Name: RainTomorrow, dtype: int64"
      ]
     },
     "execution_count": 13,
     "metadata": {},
     "output_type": "execute_result"
    }
   ],
   "source": [
    "rain['RainTomorrow'].value_counts()"
   ]
  },
  {
   "cell_type": "code",
   "execution_count": 14,
   "metadata": {},
   "outputs": [
    {
     "name": "stdout",
     "output_type": "stream",
     "text": [
      "1    31877\n",
      "0    31877\n",
      "Name: RainTomorrow, dtype: int64\n"
     ]
    }
   ],
   "source": [
    "rain0 = rain[rain['RainTomorrow'] == 0]\n",
    "rain1 = rain[rain['RainTomorrow'] == 1]\n",
    "\n",
    "rain0 = resample(rain0,\n",
    "                 replace=False,\n",
    "                 n_samples=len(rain1),\n",
    "                 random_state=73)\n",
    "\n",
    "rain = pd.concat([rain1, rain0])\n",
    "print(rain['RainTomorrow'].value_counts())"
   ]
  },
  {
   "cell_type": "code",
   "execution_count": 15,
   "metadata": {},
   "outputs": [
    {
     "data": {
      "text/plain": [
       "((63754, 23), (63754,))"
      ]
     },
     "execution_count": 15,
     "metadata": {},
     "output_type": "execute_result"
    }
   ],
   "source": [
    "X_rain = rain.drop(columns=['RainTomorrow'])\n",
    "y_rain = rain['RainTomorrow']\n",
    "X_rain.shape, y_rain.shape"
   ]
  },
  {
   "cell_type": "code",
   "execution_count": 16,
   "metadata": {},
   "outputs": [],
   "source": [
    "# sm = SMOTE(random_state=73, k_neighbors=5)\n",
    "# X_rain, y_rain = sm.fit_resample(X_rain, y_rain)\n",
    "# X_rain.shape, y_rain.shape"
   ]
  },
  {
   "cell_type": "code",
   "execution_count": 17,
   "metadata": {},
   "outputs": [],
   "source": [
    "X_rain_train, X_rain_test, y_rain_train, y_rain_test = train_test_split(X_rain, y_rain, test_size=0.33)"
   ]
  },
  {
   "cell_type": "code",
   "execution_count": 18,
   "metadata": {},
   "outputs": [],
   "source": [
    "def print_r_metrics(y_test: np.ndarray, y_pred: np.ndarray):\n",
    "    print(\n",
    "        f'MAE:\\t{mean_absolute_error(y_test, y_pred)}',\n",
    "        f'MSE:\\t{mean_squared_error(y_test, y_pred)}',\n",
    "        f'RMSE:\\t{sqrt(mean_squared_error(y_test, y_pred))}',\n",
    "        f'MAPE:\\t{mean_absolute_percentage_error(y_test, y_pred)}',\n",
    "        f'R^2:\\t{r2_score(y_test, y_pred)}',\n",
    "        sep='\\n'\n",
    "    )\n",
    "\n",
    "\n",
    "def print_c_metrics(y_test: np.ndarray, y_pred: np.ndarray):\n",
    "    print(confusion_matrix(y_test, y_pred))\n",
    "    print(classification_report(y_test, y_pred))\n"
   ]
  },
  {
   "attachments": {},
   "cell_type": "markdown",
   "metadata": {},
   "source": [
    "## Обучение"
   ]
  },
  {
   "cell_type": "code",
   "execution_count": 22,
   "metadata": {},
   "outputs": [
    {
     "name": "stdout",
     "output_type": "stream",
     "text": [
      "{'max_depth': 5, 'random_state': 73}\n",
      "MAE:\t0.5863417091087443\n",
      "MSE:\t0.5829123852857983\n",
      "RMSE:\t0.76348699090803\n",
      "MAPE:\t0.10529532603202965\n",
      "R^2:\t0.27054778723951267\n"
     ]
    }
   ],
   "source": [
    "params = {\n",
    "    'random_state': [seed],\n",
    "    'max_depth': range(5, 8),\n",
    "}\n",
    "\n",
    "dtr = GridSearchCV(DecisionTreeRegressor(), params).fit(X_wine_train, y_wine_train)\n",
    "\n",
    "print(dtr.best_params_)\n",
    "print_r_metrics(y_wine_test, dtr.predict(X_wine_test))"
   ]
  },
  {
   "cell_type": "code",
   "execution_count": 23,
   "metadata": {},
   "outputs": [
    {
     "name": "stdout",
     "output_type": "stream",
     "text": [
      "{'max_depth': 7, 'random_state': 73}\n",
      "[[8458 2062]\n",
      " [2973 7546]]\n",
      "              precision    recall  f1-score   support\n",
      "\n",
      "           0       0.74      0.80      0.77     10520\n",
      "           1       0.79      0.72      0.75     10519\n",
      "\n",
      "    accuracy                           0.76     21039\n",
      "   macro avg       0.76      0.76      0.76     21039\n",
      "weighted avg       0.76      0.76      0.76     21039\n",
      "\n"
     ]
    }
   ],
   "source": [
    "params = {\n",
    "    'random_state': [seed],\n",
    "    'max_depth': range(5, 8),\n",
    "}\n",
    "\n",
    "dtc = GridSearchCV(DecisionTreeClassifier(), params).fit(X_rain_train, y_rain_train)\n",
    "\n",
    "print(dtc.best_params_)\n",
    "print_c_metrics(y_rain_test, dtc.predict(X_rain_test))"
   ]
  },
  {
   "cell_type": "code",
   "execution_count": 24,
   "metadata": {},
   "outputs": [
    {
     "name": "stdout",
     "output_type": "stream",
     "text": [
      "{'n_estimators': 11, 'random_state': 73}\n",
      "MAE:\t0.47247298156389067\n",
      "MSE:\t0.43530023695312947\n",
      "RMSE:\t0.6597728677000362\n",
      "MAPE:\t0.08559559968650877\n",
      "R^2:\t0.45526852906901016\n"
     ]
    }
   ],
   "source": [
    "params = {\n",
    "    'random_state': [seed],\n",
    "    'n_estimators': range(9, 12),\n",
    "}\n",
    "\n",
    "br = GridSearchCV(BaggingRegressor(), params).fit(X_wine_train, y_wine_train)\n",
    "\n",
    "print(br.best_params_)\n",
    "print_r_metrics(y_wine_test, br.predict(X_wine_test))"
   ]
  },
  {
   "cell_type": "code",
   "execution_count": 26,
   "metadata": {},
   "outputs": [
    {
     "name": "stdout",
     "output_type": "stream",
     "text": [
      "{'n_estimators': 11, 'random_state': 73}\n",
      "[[8218 2302]\n",
      " [2371 8148]]\n",
      "              precision    recall  f1-score   support\n",
      "\n",
      "           0       0.78      0.78      0.78     10520\n",
      "           1       0.78      0.77      0.78     10519\n",
      "\n",
      "    accuracy                           0.78     21039\n",
      "   macro avg       0.78      0.78      0.78     21039\n",
      "weighted avg       0.78      0.78      0.78     21039\n",
      "\n"
     ]
    }
   ],
   "source": [
    "params = {\n",
    "    'random_state': [seed],\n",
    "    'n_estimators': range(9, 12),\n",
    "}\n",
    "\n",
    "bc = GridSearchCV(BaggingClassifier(), params).fit(X_rain_train, y_rain_train)\n",
    "\n",
    "print(bc.best_params_)\n",
    "print_c_metrics(y_rain_test, bc.predict(X_rain_test))"
   ]
  },
  {
   "cell_type": "code",
   "execution_count": 27,
   "metadata": {},
   "outputs": [],
   "source": [
    "params = {\n",
    "    'random_state': [seed],\n",
    "    'max_depth': range(3, 4),\n",
    "}\n",
    "\n",
    "gbr = GridSearchCV(GradientBoostingRegressor(), params).fit(X_wine_train, y_wine_train)"
   ]
  },
  {
   "cell_type": "code",
   "execution_count": 28,
   "metadata": {},
   "outputs": [
    {
     "name": "stdout",
     "output_type": "stream",
     "text": [
      "{'max_depth': 3, 'random_state': 73}\n",
      "MAE:\t0.5489570371107776\n",
      "MSE:\t0.49831127143718495\n",
      "RMSE:\t0.7059116597968792\n",
      "MAPE:\t0.09830577982428541\n",
      "R^2:\t0.3764169903250083\n"
     ]
    }
   ],
   "source": [
    "print(gbr.best_params_)\n",
    "print_r_metrics(y_wine_test, gbr.predict(X_wine_test))"
   ]
  },
  {
   "cell_type": "code",
   "execution_count": 29,
   "metadata": {},
   "outputs": [
    {
     "name": "stdout",
     "output_type": "stream",
     "text": [
      "{'max_depth': 3, 'random_state': 73}\n",
      "[[8407 2113]\n",
      " [2367 8152]]\n",
      "              precision    recall  f1-score   support\n",
      "\n",
      "           0       0.78      0.80      0.79     10520\n",
      "           1       0.79      0.77      0.78     10519\n",
      "\n",
      "    accuracy                           0.79     21039\n",
      "   macro avg       0.79      0.79      0.79     21039\n",
      "weighted avg       0.79      0.79      0.79     21039\n",
      "\n"
     ]
    }
   ],
   "source": [
    "params = {\n",
    "    'random_state': [seed],\n",
    "    'max_depth': range(3, 4),\n",
    "}\n",
    "\n",
    "gbc = GridSearchCV(GradientBoostingClassifier(), params).fit(X_rain_train, y_rain_train)\n",
    "\n",
    "print(gbc.best_params_)\n",
    "print_c_metrics(y_rain_test, gbc.predict(X_rain_test))"
   ]
  },
  {
   "cell_type": "code",
   "execution_count": 32,
   "metadata": {},
   "outputs": [
    {
     "name": "stdout",
     "output_type": "stream",
     "text": [
      "MAE:\t0.48920552412921936\n",
      "MSE:\t0.4308106079553712\n",
      "RMSE:\t0.656361644183579\n",
      "MAPE:\t0.08806149290917074\n",
      "R^2:\t0.4608868173221973\n"
     ]
    }
   ],
   "source": [
    "estimators = [\n",
    "    ('br', br),\n",
    "    ('gbr', gbr)\n",
    "]\n",
    "\n",
    "sr = StackingRegressor(estimators=estimators).fit(X_wine_train, y_wine_train)\n",
    "\n",
    "print_r_metrics(y_wine_test, sr.predict(X_wine_test))"
   ]
  },
  {
   "cell_type": "code",
   "execution_count": null,
   "metadata": {},
   "outputs": [],
   "source": [
    "estimators = [\n",
    "    ('bc', bc),\n",
    "    ('gbc', gbc)\n",
    "]\n",
    "\n",
    "sc = StackingClassifier(estimators=estimators).fit(X_rain_train, y_rain_train)\n",
    "\n",
    "print_c_metrics(y_rain_test, sc.predict(X_rain_test))"
   ]
  },
  {
   "cell_type": "code",
   "execution_count": 34,
   "metadata": {},
   "outputs": [
    {
     "name": "stdout",
     "output_type": "stream",
     "text": [
      "{'max_depth': 5, 'random_state': 73}\n",
      "MAE:\t0.5038853796489867\n",
      "MSE:\t0.45673025122992883\n",
      "RMSE:\t0.6758182087143915\n",
      "MAPE:\t0.09102038478526688\n",
      "R^2:\t0.4284511689848943\n"
     ]
    }
   ],
   "source": [
    "params = {\n",
    "    'random_state': [seed],\n",
    "    'max_depth': range(3, 8),\n",
    "}\n",
    "\n",
    "xgbr = GridSearchCV(XGBRegressor(), params).fit(X_wine_train, y_wine_train)\n",
    "\n",
    "print(xgbr.best_params_)\n",
    "print_r_metrics(y_wine_test, xgbr.predict(X_wine_test))"
   ]
  },
  {
   "cell_type": "code",
   "execution_count": 35,
   "metadata": {},
   "outputs": [
    {
     "name": "stdout",
     "output_type": "stream",
     "text": [
      "{'max_depth': 6, 'random_state': 73}\n",
      "[[8480 2040]\n",
      " [2164 8355]]\n",
      "              precision    recall  f1-score   support\n",
      "\n",
      "           0       0.80      0.81      0.80     10520\n",
      "           1       0.80      0.79      0.80     10519\n",
      "\n",
      "    accuracy                           0.80     21039\n",
      "   macro avg       0.80      0.80      0.80     21039\n",
      "weighted avg       0.80      0.80      0.80     21039\n",
      "\n"
     ]
    }
   ],
   "source": [
    "params = {\n",
    "    'random_state': [seed],\n",
    "    'max_depth': range(3, 8),\n",
    "}\n",
    "\n",
    "xgbc = GridSearchCV(XGBClassifier(), params).fit(X_rain_train, y_rain_train)\n",
    "\n",
    "print(xgbc.best_params_)\n",
    "print_c_metrics(y_rain_test, xgbc.predict(X_rain_test))"
   ]
  },
  {
   "cell_type": "code",
   "execution_count": 39,
   "metadata": {},
   "outputs": [
    {
     "name": "stdout",
     "output_type": "stream",
     "text": [
      "MAE:\t0.5049634905368013\n",
      "MSE:\t0.44321237513873185\n",
      "RMSE:\t0.6657419733941461\n",
      "MAPE:\t0.09062923992697167\n",
      "R^2:\t0.44536733833633313\n"
     ]
    }
   ],
   "source": [
    "cbr = CatBoostRegressor(random_state=seed, verbose=False).fit(X_wine_train, y_wine_train)\n",
    "\n",
    "print_r_metrics(y_wine_test, cbr.predict(X_wine_test))"
   ]
  },
  {
   "cell_type": "code",
   "execution_count": 40,
   "metadata": {},
   "outputs": [
    {
     "name": "stdout",
     "output_type": "stream",
     "text": [
      "[[8530 1990]\n",
      " [2078 8441]]\n",
      "              precision    recall  f1-score   support\n",
      "\n",
      "           0       0.80      0.81      0.81     10520\n",
      "           1       0.81      0.80      0.81     10519\n",
      "\n",
      "    accuracy                           0.81     21039\n",
      "   macro avg       0.81      0.81      0.81     21039\n",
      "weighted avg       0.81      0.81      0.81     21039\n",
      "\n"
     ]
    }
   ],
   "source": [
    "cbc = CatBoostClassifier(random_state=seed, verbose=False).fit(X_rain_train, y_rain_train)\n",
    "\n",
    "print_c_metrics(y_rain_test, cbc.predict(X_rain_test))"
   ]
  },
  {
   "attachments": {},
   "cell_type": "markdown",
   "metadata": {},
   "source": [
    "## Свой сад"
   ]
  },
  {
   "cell_type": "code",
   "execution_count": 19,
   "metadata": {},
   "outputs": [],
   "source": [
    "if (dir := str(Path(os.getcwd()).parent)) not in sys.path:\n",
    "    sys.path.append(dir)\n",
    "sys.path\n",
    "\n",
    "from mylib.cart import CART"
   ]
  },
  {
   "cell_type": "code",
   "execution_count": 63,
   "metadata": {},
   "outputs": [
    {
     "data": {
      "text/plain": [
       "array([6.0046729 , 6.16091954, 5.37987013, ..., 6.76549865, 5.1120332 ,\n",
       "       6.54545455])"
      ]
     },
     "execution_count": 63,
     "metadata": {},
     "output_type": "execute_result"
    }
   ],
   "source": [
    "cart_r = CART('R', max_depth=5).fit(np.array(X_wine_train), np.array(y_wine_train))\n",
    "cart_r.predict(X_wine_test)"
   ]
  },
  {
   "cell_type": "code",
   "execution_count": 64,
   "metadata": {},
   "outputs": [
    {
     "name": "stdout",
     "output_type": "stream",
     "text": [
      "MAE:\t0.5877446794647379\n",
      "MSE:\t0.5898198382576405\n",
      "RMSE:\t0.7679972905275386\n",
      "MAPE:\t0.10556227637995373\n",
      "R^2:\t0.26190385209241696\n"
     ]
    }
   ],
   "source": [
    "print_r_metrics(y_wine_test, cart_r.predict(X_wine_test))"
   ]
  },
  {
   "cell_type": "code",
   "execution_count": 55,
   "metadata": {},
   "outputs": [
    {
     "data": {
      "text/plain": [
       "array([0., 0., 1., ..., 1., 0., 0.])"
      ]
     },
     "execution_count": 55,
     "metadata": {},
     "output_type": "execute_result"
    }
   ],
   "source": [
    "cart_c = CART('C', max_depth=5).fit(np.array(X_rain_train[:1000]), np.array(y_rain_train[:1000]))\n",
    "cart_c.predict(X_rain_test)"
   ]
  },
  {
   "cell_type": "code",
   "execution_count": 56,
   "metadata": {},
   "outputs": [
    {
     "name": "stdout",
     "output_type": "stream",
     "text": [
      "[[7942 2578]\n",
      " [3055 7464]]\n",
      "              precision    recall  f1-score   support\n",
      "\n",
      "           0       0.72      0.75      0.74     10520\n",
      "           1       0.74      0.71      0.73     10519\n",
      "\n",
      "    accuracy                           0.73     21039\n",
      "   macro avg       0.73      0.73      0.73     21039\n",
      "weighted avg       0.73      0.73      0.73     21039\n",
      "\n"
     ]
    }
   ],
   "source": [
    "print_c_metrics(y_rain_test, cart_c.predict(X_rain_test))"
   ]
  },
  {
   "cell_type": "code",
   "execution_count": 20,
   "metadata": {},
   "outputs": [
    {
     "data": {
      "text/plain": [
       "array([1., 0., 0., ..., 1., 1., 0.])"
      ]
     },
     "execution_count": 20,
     "metadata": {},
     "output_type": "execute_result"
    }
   ],
   "source": [
    "cart_c = CART('C', max_depth=5).fit(np.array(X_rain_train[:100]), np.array(y_rain_train[:100]))\n",
    "cart_c.predict(X_rain_test)"
   ]
  },
  {
   "cell_type": "code",
   "execution_count": 21,
   "metadata": {},
   "outputs": [
    {
     "name": "stdout",
     "output_type": "stream",
     "text": [
      "[[7322 3218]\n",
      " [4102 6397]]\n",
      "              precision    recall  f1-score   support\n",
      "\n",
      "           0       0.64      0.69      0.67     10540\n",
      "           1       0.67      0.61      0.64     10499\n",
      "\n",
      "    accuracy                           0.65     21039\n",
      "   macro avg       0.65      0.65      0.65     21039\n",
      "weighted avg       0.65      0.65      0.65     21039\n",
      "\n"
     ]
    }
   ],
   "source": [
    "print_c_metrics(y_rain_test, cart_c.predict(X_rain_test))"
   ]
  },
  {
   "attachments": {},
   "cell_type": "markdown",
   "metadata": {},
   "source": [
    "## Бэггинг"
   ]
  },
  {
   "cell_type": "code",
   "execution_count": 20,
   "metadata": {},
   "outputs": [],
   "source": [
    "from mylib.bagging import Bagging"
   ]
  },
  {
   "cell_type": "code",
   "execution_count": 25,
   "metadata": {},
   "outputs": [
    {
     "name": "stdout",
     "output_type": "stream",
     "text": [
      "MAE:\t0.4770502225047679\n",
      "MSE:\t0.42477412394767766\n",
      "RMSE:\t0.6517469784722271\n",
      "MAPE:\t0.08606269151723696\n",
      "R^2:\t0.4323654628604827\n"
     ]
    }
   ],
   "source": [
    "my_br = Bagging('R', DecisionTreeRegressor, n_estimators=11).fit(X_wine_train, y_wine_train)\n",
    "print_r_metrics(y_wine_test, my_br.predict(np.array(X_wine_test)))"
   ]
  },
  {
   "cell_type": "code",
   "execution_count": 26,
   "metadata": {},
   "outputs": [
    {
     "name": "stdout",
     "output_type": "stream",
     "text": [
      "MAE:\t0.46920957830048743\n",
      "MSE:\t0.39758716214914563\n",
      "RMSE:\t0.6305451309376242\n",
      "MAPE:\t0.08482435241526151\n",
      "R^2:\t0.46869596796121327\n"
     ]
    }
   ],
   "source": [
    "my_br = Bagging('R', BaggingRegressor, n_estimators=11).fit(X_wine_train, y_wine_train)\n",
    "print_r_metrics(y_wine_test, my_br.predict(np.array(X_wine_test)))"
   ]
  },
  {
   "cell_type": "code",
   "execution_count": 28,
   "metadata": {},
   "outputs": [
    {
     "name": "stdout",
     "output_type": "stream",
     "text": [
      "[[8160 2318]\n",
      " [2409 8152]]\n",
      "              precision    recall  f1-score   support\n",
      "\n",
      "           0       0.77      0.78      0.78     10478\n",
      "           1       0.78      0.77      0.78     10561\n",
      "\n",
      "    accuracy                           0.78     21039\n",
      "   macro avg       0.78      0.78      0.78     21039\n",
      "weighted avg       0.78      0.78      0.78     21039\n",
      "\n"
     ]
    }
   ],
   "source": [
    "my_bc = Bagging('C', DecisionTreeClassifier, n_estimators=11).fit(X_rain_train, y_rain_train)\n",
    "print_c_metrics(y_rain_test, my_bc.predict(np.array(X_rain_test)))"
   ]
  }
 ],
 "metadata": {
  "kernelspec": {
   "display_name": "venv",
   "language": "python",
   "name": "python3"
  },
  "language_info": {
   "codemirror_mode": {
    "name": "ipython",
    "version": 3
   },
   "file_extension": ".py",
   "mimetype": "text/x-python",
   "name": "python",
   "nbconvert_exporter": "python",
   "pygments_lexer": "ipython3",
   "version": "3.9.13"
  },
  "orig_nbformat": 4
 },
 "nbformat": 4,
 "nbformat_minor": 2
}
