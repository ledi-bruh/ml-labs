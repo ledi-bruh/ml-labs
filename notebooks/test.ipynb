{
 "cells": [
  {
   "cell_type": "code",
   "execution_count": 2,
   "metadata": {},
   "outputs": [],
   "source": [
    "import sys\n",
    "import os\n",
    "from pathlib import Path\n",
    "import pandas as pd\n",
    "import numpy as np\n",
    "\n",
    "from sklearn.model_selection import train_test_split\n",
    "from sklearn.utils import resample\n",
    "import tensorflow as tf\n",
    "\n",
    "import warnings\n",
    "\n",
    "if not sys.warnoptions:\n",
    "    warnings.simplefilter(\"ignore\")\n",
    "    os.environ[\"PYTHONWARNINGS\"] = \"ignore\"\n",
    "\n",
    "if (dir := str(Path(os.getcwd()).parent)) not in sys.path:\n",
    "    sys.path.append(dir)\n",
    "\n",
    "from mylib.metrics import Metrics, CMetrics\n",
    "\n",
    "SEED = 73\n",
    "np.random.seed = SEED"
   ]
  },
  {
   "cell_type": "code",
   "execution_count": 3,
   "metadata": {},
   "outputs": [],
   "source": [
    "wine = pd.read_csv('../data/wine_preprocessed.csv', sep=';')\n",
    "rain = pd.read_csv('../data/rain_preprocessed.csv', sep=';')"
   ]
  },
  {
   "cell_type": "code",
   "execution_count": 4,
   "metadata": {},
   "outputs": [
    {
     "name": "stdout",
     "output_type": "stream",
     "text": [
      "(6497, 12) (6497,)\n",
      "(63754, 23) (63754,)\n"
     ]
    }
   ],
   "source": [
    "X_wine = wine.drop(['quality'], axis=1)\n",
    "y_wine = wine['quality']\n",
    "print(X_wine.shape, y_wine.shape)\n",
    "X_wine_train, X_wine_test, y_wine_train, y_wine_test = train_test_split(X_wine, y_wine, test_size=0.33)\n",
    "\n",
    "rain0 = rain[rain['RainTomorrow'] == 0]\n",
    "rain1 = rain[rain['RainTomorrow'] == 1]\n",
    "rain0 = resample(rain0,\n",
    "                 replace=False,\n",
    "                 n_samples=len(rain1),\n",
    "                 random_state=73)\n",
    "rain = pd.concat([rain1, rain0])\n",
    "X_rain = rain.drop(columns=['RainTomorrow'])\n",
    "y_rain = rain['RainTomorrow']\n",
    "print(X_rain.shape, y_rain.shape)\n",
    "X_rain_train, X_rain_test, y_rain_train, y_rain_test = train_test_split(X_rain, y_rain, test_size=0.33)"
   ]
  },
  {
   "cell_type": "code",
   "execution_count": 5,
   "metadata": {},
   "outputs": [],
   "source": [
    "print_r_metrics = lambda true, pred: Metrics(true, pred)()\n",
    "print_c_metrics = lambda true, pred: CMetrics(true, pred)()"
   ]
  },
  {
   "cell_type": "code",
   "execution_count": 49,
   "metadata": {},
   "outputs": [],
   "source": [
    "from mylib.perceptron import Perceptron\n",
    "from mylib.layer.layer import Layer\n",
    "from mylib.optimizer.SGD import SGD\n",
    "from mylib.optimizer.momentum import Momentum\n",
    "from mylib.optimizer.RMSProp import RMSProp\n",
    "from mylib.optimizer.adam import Adam"
   ]
  },
  {
   "cell_type": "code",
   "execution_count": 32,
   "metadata": {},
   "outputs": [
    {
     "name": "stdout",
     "output_type": "stream",
     "text": [
      "[[0.49997156 0.50002844]\n",
      " [0.50003557 0.49996443]\n",
      " [0.50002434 0.49997566]\n",
      " ...\n",
      " [0.50006176 0.49993824]\n",
      " [0.499996   0.500004  ]\n",
      " [0.49995681 0.50004319]]\n",
      "\tprecision\trecall\tf1-score\n",
      "0\t     0.63\t  0.75\t    0.68\n",
      "1\t     0.69\t  0.56\t    0.62\n",
      "accuracy\t\t\t    0.65\n",
      "\n"
     ]
    }
   ],
   "source": [
    "pc = (\n",
    "    Perceptron([\n",
    "        Layer(16, 'relu', 23),\n",
    "        Layer(16, 'sigmoid'),\n",
    "        Layer(2, 'softmax'),\n",
    "    ])\n",
    "    .compile(loss='mse')\n",
    "    .fit(np.array(X_rain_train), np.array(y_rain_train), epochs=8, batch_size=32)\n",
    ")\n",
    "pc_pred = pc.predict(np.array(X_rain_test))\n",
    "print(pc_pred)\n",
    "print_c_metrics(y_rain_test, np.argmax(pc_pred, axis=1))"
   ]
  },
  {
   "cell_type": "code",
   "execution_count": 92,
   "metadata": {},
   "outputs": [
    {
     "name": "stdout",
     "output_type": "stream",
     "text": [
      "\tprecision\trecall\tf1-score\n",
      "0\t     0.58\t  0.72\t    0.64\n",
      "1\t     0.63\t  0.47\t    0.54\n",
      "accuracy\t\t\t    0.60\n",
      "\n"
     ]
    }
   ],
   "source": [
    "adam = (\n",
    "    Perceptron([\n",
    "        Layer(16, 'tanh', 23),\n",
    "        Layer(8, 'tanh'),\n",
    "        Layer(2, 'softmax'),\n",
    "    ])\n",
    "    .compile(optimizer=Adam(learning_rate=0.01), loss='mse')\n",
    "    .fit(np.array(X_rain_train), np.array(y_rain_train), epochs=15, batch_size=128)\n",
    ")\n",
    "adam_pred = adam.predict(np.array(X_rain_test))\n",
    "print_c_metrics(y_rain_test, np.argmax(adam_pred, axis=1))"
   ]
  },
  {
   "cell_type": "code",
   "execution_count": 116,
   "metadata": {},
   "outputs": [
    {
     "name": "stdout",
     "output_type": "stream",
     "text": [
      "(2, 3, 2)\n",
      "[[[1 1]\n",
      "  [2 2]\n",
      "  [3 3]]\n",
      "\n",
      " [[4 4]\n",
      "  [5 5]\n",
      "  [6 6]]]\n"
     ]
    }
   ],
   "source": [
    "a = np.array(\n",
    "    [\n",
    "        [\n",
    "            [1, 1],\n",
    "            [2, 2],\n",
    "            [3, 3],\n",
    "        ],\n",
    "        [\n",
    "            [4, 4],\n",
    "            [5, 5],\n",
    "            [6, 6],\n",
    "        ],\n",
    "    ]\n",
    ")\n",
    "\n",
    "print(a.shape)\n",
    "print(a)\n",
    "# a = np.array(\n",
    "#     [\n",
    "#         [1, 1],\n",
    "#         [2, 2]\n",
    "#     ]\n",
    "# )\n"
   ]
  },
  {
   "cell_type": "code",
   "execution_count": 117,
   "metadata": {},
   "outputs": [
    {
     "data": {
      "text/plain": [
       "array([[1, 1, 2, 2, 3, 3],\n",
       "       [4, 4, 5, 5, 6, 6]])"
      ]
     },
     "execution_count": 117,
     "metadata": {},
     "output_type": "execute_result"
    }
   ],
   "source": [
    "np.reshape(a, [-1, np.prod(a.shape[1:])])"
   ]
  },
  {
   "cell_type": "code",
   "execution_count": 126,
   "metadata": {},
   "outputs": [
    {
     "data": {
      "text/plain": [
       "array([[ 0.60183296,  0.68811257, -0.50832032],\n",
       "       [ 0.86401266, -0.18630604,  1.37179407],\n",
       "       [ 0.43507748,  0.51400761,  0.54007806],\n",
       "       [-1.34794607,  0.6353066 ,  0.73903983],\n",
       "       [-0.64729701,  0.08304134, -0.19947973]])"
      ]
     },
     "execution_count": 126,
     "metadata": {},
     "output_type": "execute_result"
    }
   ],
   "source": [
    "x = np.random.randn(5, 3)\n",
    "xx = np.reshape(x, [-1, np.prod(x.shape[1:])])\n",
    "xx"
   ]
  }
 ],
 "metadata": {
  "kernelspec": {
   "display_name": "venv",
   "language": "python",
   "name": "python3"
  },
  "language_info": {
   "codemirror_mode": {
    "name": "ipython",
    "version": 3
   },
   "file_extension": ".py",
   "mimetype": "text/x-python",
   "name": "python",
   "nbconvert_exporter": "python",
   "pygments_lexer": "ipython3",
   "version": "3.9.13"
  },
  "orig_nbformat": 4
 },
 "nbformat": 4,
 "nbformat_minor": 2
}
