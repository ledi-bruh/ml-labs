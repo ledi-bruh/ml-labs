{
 "cells": [
  {
   "cell_type": "code",
   "execution_count": 1,
   "metadata": {},
   "outputs": [],
   "source": [
    "import sys\n",
    "import os\n",
    "from pathlib import Path\n",
    "import pandas as pd\n",
    "import numpy as np\n",
    "\n",
    "from sklearn.model_selection import train_test_split\n",
    "from sklearn.utils import resample\n",
    "import tensorflow as tf\n",
    "\n",
    "import warnings\n",
    "\n",
    "if not sys.warnoptions:\n",
    "    warnings.simplefilter(\"ignore\")\n",
    "    os.environ[\"PYTHONWARNINGS\"] = \"ignore\"\n",
    "\n",
    "if (dir := str(Path(os.getcwd()).parent)) not in sys.path:\n",
    "    sys.path.append(dir)\n",
    "sys.path\n",
    "\n",
    "from mylib.metrics import Metrics, CMetrics"
   ]
  },
  {
   "cell_type": "code",
   "execution_count": 2,
   "metadata": {},
   "outputs": [],
   "source": [
    "SEED = 73\n",
    "\n",
    "np.random.seed = SEED"
   ]
  },
  {
   "cell_type": "code",
   "execution_count": 3,
   "metadata": {},
   "outputs": [],
   "source": [
    "wine = pd.read_csv('../data/wine_preprocessed.csv', sep=';')\n",
    "rain = pd.read_csv('../data/rain_preprocessed.csv', sep=';')"
   ]
  },
  {
   "cell_type": "code",
   "execution_count": 4,
   "metadata": {},
   "outputs": [
    {
     "name": "stdout",
     "output_type": "stream",
     "text": [
      "(6497, 12) (6497,)\n"
     ]
    }
   ],
   "source": [
    "X_wine = wine.drop(['quality'], axis=1)\n",
    "y_wine = wine['quality']\n",
    "print(X_wine.shape, y_wine.shape)\n",
    "\n",
    "X_wine_train, X_wine_test, y_wine_train, y_wine_test = train_test_split(X_wine, y_wine, test_size=0.33)"
   ]
  },
  {
   "cell_type": "code",
   "execution_count": 5,
   "metadata": {},
   "outputs": [
    {
     "name": "stdout",
     "output_type": "stream",
     "text": [
      "0    113583\n",
      "1     31877\n",
      "Name: RainTomorrow, dtype: int64\n",
      "1    31877\n",
      "0    31877\n",
      "Name: RainTomorrow, dtype: int64\n",
      "(63754, 23) (63754,)\n"
     ]
    }
   ],
   "source": [
    "print(rain['RainTomorrow'].value_counts())\n",
    "\n",
    "rain0 = rain[rain['RainTomorrow'] == 0]\n",
    "rain1 = rain[rain['RainTomorrow'] == 1]\n",
    "\n",
    "rain0 = resample(rain0,\n",
    "                 replace=False,\n",
    "                 n_samples=len(rain1),\n",
    "                 random_state=73)\n",
    "\n",
    "rain = pd.concat([rain1, rain0])\n",
    "print(rain['RainTomorrow'].value_counts())\n",
    "\n",
    "X_rain = rain.drop(columns=['RainTomorrow'])\n",
    "y_rain = rain['RainTomorrow']\n",
    "print(X_rain.shape, y_rain.shape)\n",
    "\n",
    "X_rain_train, X_rain_test, y_rain_train, y_rain_test = train_test_split(X_rain, y_rain, test_size=0.33)"
   ]
  },
  {
   "cell_type": "code",
   "execution_count": 6,
   "metadata": {},
   "outputs": [],
   "source": [
    "print_r_metrics = lambda true, pred: Metrics(true, pred)()\n",
    "print_c_metrics = lambda true, pred: CMetrics(true, pred)()"
   ]
  },
  {
   "attachments": {},
   "cell_type": "markdown",
   "metadata": {},
   "source": [
    "## Обучение"
   ]
  },
  {
   "attachments": {},
   "cell_type": "markdown",
   "metadata": {},
   "source": [
    "### Регрессия"
   ]
  },
  {
   "cell_type": "code",
   "execution_count": 30,
   "metadata": {},
   "outputs": [
    {
     "data": {
      "text/plain": [
       "(4352, 12)"
      ]
     },
     "execution_count": 30,
     "metadata": {},
     "output_type": "execute_result"
    }
   ],
   "source": [
    "X_wine_train.shape"
   ]
  },
  {
   "cell_type": "code",
   "execution_count": 39,
   "metadata": {},
   "outputs": [
    {
     "name": "stdout",
     "output_type": "stream",
     "text": [
      "Model: \"sequential_3\"\n",
      "_________________________________________________________________\n",
      " Layer (type)                Output Shape              Param #   \n",
      "=================================================================\n",
      " dense_12 (Dense)            (None, 32)                416       \n",
      "                                                                 \n",
      " dense_13 (Dense)            (None, 24)                792       \n",
      "                                                                 \n",
      " dropout_6 (Dropout)         (None, 24)                0         \n",
      "                                                                 \n",
      " dense_14 (Dense)            (None, 16)                400       \n",
      "                                                                 \n",
      " dropout_7 (Dropout)         (None, 16)                0         \n",
      "                                                                 \n",
      " dense_15 (Dense)            (None, 1)                 17        \n",
      "                                                                 \n",
      "=================================================================\n",
      "Total params: 1,625\n",
      "Trainable params: 1,625\n",
      "Non-trainable params: 0\n",
      "_________________________________________________________________\n"
     ]
    }
   ],
   "source": [
    "model_regression = tf.keras.Sequential(\n",
    "    [\n",
    "        tf.keras.layers.Dense(32, activation=\"elu\", input_shape=(12,)),\n",
    "        tf.keras.layers.Dense(24, activation=\"elu\"),\n",
    "        tf.keras.layers.Dropout(0.1),\n",
    "        tf.keras.layers.Dense(16, activation=\"elu\"),\n",
    "        tf.keras.layers.Dropout(0.1),\n",
    "        tf.keras.layers.Dense(1, activation=\"relu\"),\n",
    "    ]\n",
    ")\n",
    "\n",
    "model_regression.summary()"
   ]
  },
  {
   "cell_type": "code",
   "execution_count": 43,
   "metadata": {},
   "outputs": [],
   "source": [
    "model_regression.compile(optimizer=tf.keras.optimizers.Adam(learning_rate=0.01), loss=\"mse\")"
   ]
  },
  {
   "cell_type": "code",
   "execution_count": 44,
   "metadata": {},
   "outputs": [
    {
     "name": "stdout",
     "output_type": "stream",
     "text": [
      "Epoch 1/100\n",
      "136/136 [==============================] - 2s 3ms/step - loss: 0.7262\n",
      "Epoch 2/100\n",
      "136/136 [==============================] - 0s 3ms/step - loss: 0.6266\n",
      "Epoch 3/100\n",
      "136/136 [==============================] - 0s 3ms/step - loss: 0.6620\n",
      "Epoch 4/100\n",
      "136/136 [==============================] - 0s 3ms/step - loss: 0.6300\n",
      "Epoch 5/100\n",
      "136/136 [==============================] - 0s 3ms/step - loss: 0.5901\n",
      "Epoch 6/100\n",
      "136/136 [==============================] - 0s 3ms/step - loss: 0.6019\n",
      "Epoch 7/100\n",
      "136/136 [==============================] - 0s 3ms/step - loss: 0.6839\n",
      "Epoch 8/100\n",
      "136/136 [==============================] - 0s 3ms/step - loss: 0.6304\n",
      "Epoch 9/100\n",
      "136/136 [==============================] - 0s 3ms/step - loss: 0.6117\n",
      "Epoch 10/100\n",
      "136/136 [==============================] - 0s 4ms/step - loss: 0.5850\n",
      "Epoch 11/100\n",
      "136/136 [==============================] - 0s 3ms/step - loss: 0.5969\n",
      "Epoch 12/100\n",
      "136/136 [==============================] - 0s 3ms/step - loss: 0.5996\n",
      "Epoch 13/100\n",
      "136/136 [==============================] - 0s 3ms/step - loss: 0.5701\n",
      "Epoch 14/100\n",
      "136/136 [==============================] - 0s 3ms/step - loss: 0.5694\n",
      "Epoch 15/100\n",
      "136/136 [==============================] - 0s 3ms/step - loss: 0.5947\n",
      "Epoch 16/100\n",
      "136/136 [==============================] - 0s 3ms/step - loss: 0.5876\n",
      "Epoch 17/100\n",
      "136/136 [==============================] - 0s 3ms/step - loss: 0.5646\n",
      "Epoch 18/100\n",
      "136/136 [==============================] - 0s 3ms/step - loss: 0.5826\n",
      "Epoch 19/100\n",
      "136/136 [==============================] - 0s 3ms/step - loss: 0.5650\n",
      "Epoch 20/100\n",
      "136/136 [==============================] - 0s 3ms/step - loss: 0.5547\n",
      "Epoch 21/100\n",
      "136/136 [==============================] - 0s 3ms/step - loss: 0.5657\n",
      "Epoch 22/100\n",
      "136/136 [==============================] - 0s 3ms/step - loss: 0.5633\n",
      "Epoch 23/100\n",
      "136/136 [==============================] - 0s 3ms/step - loss: 0.5608\n",
      "Epoch 24/100\n",
      "136/136 [==============================] - 0s 3ms/step - loss: 0.5526\n",
      "Epoch 25/100\n",
      "136/136 [==============================] - 0s 3ms/step - loss: 0.5530\n",
      "Epoch 26/100\n",
      "136/136 [==============================] - 0s 3ms/step - loss: 0.5607\n",
      "Epoch 27/100\n",
      "136/136 [==============================] - 0s 3ms/step - loss: 0.5580\n",
      "Epoch 28/100\n",
      "136/136 [==============================] - 0s 3ms/step - loss: 0.5669\n",
      "Epoch 29/100\n",
      "136/136 [==============================] - 0s 3ms/step - loss: 0.5564\n",
      "Epoch 30/100\n",
      "136/136 [==============================] - 0s 3ms/step - loss: 0.5644\n",
      "Epoch 31/100\n",
      "136/136 [==============================] - 0s 3ms/step - loss: 0.5626\n",
      "Epoch 32/100\n",
      "136/136 [==============================] - 0s 3ms/step - loss: 0.5422\n",
      "Epoch 33/100\n",
      "136/136 [==============================] - 0s 3ms/step - loss: 0.5657\n",
      "Epoch 34/100\n",
      "136/136 [==============================] - 0s 3ms/step - loss: 0.5536\n",
      "Epoch 35/100\n",
      "136/136 [==============================] - 0s 3ms/step - loss: 0.5597\n",
      "Epoch 36/100\n",
      "136/136 [==============================] - 0s 3ms/step - loss: 0.5515\n",
      "Epoch 37/100\n",
      "136/136 [==============================] - 0s 3ms/step - loss: 0.5501\n",
      "Epoch 38/100\n",
      "136/136 [==============================] - 0s 3ms/step - loss: 0.5398\n",
      "Epoch 39/100\n",
      "136/136 [==============================] - 0s 3ms/step - loss: 0.5573\n",
      "Epoch 40/100\n",
      "136/136 [==============================] - 0s 3ms/step - loss: 0.5776\n",
      "Epoch 41/100\n",
      "136/136 [==============================] - 0s 3ms/step - loss: 0.5498\n",
      "Epoch 42/100\n",
      "136/136 [==============================] - 0s 3ms/step - loss: 0.5478\n",
      "Epoch 43/100\n",
      "136/136 [==============================] - 0s 3ms/step - loss: 0.5575\n",
      "Epoch 44/100\n",
      "136/136 [==============================] - 0s 3ms/step - loss: 0.5618\n",
      "Epoch 45/100\n",
      "136/136 [==============================] - 0s 3ms/step - loss: 0.5571\n",
      "Epoch 46/100\n",
      "136/136 [==============================] - 0s 3ms/step - loss: 0.5597\n",
      "Epoch 47/100\n",
      "136/136 [==============================] - 0s 3ms/step - loss: 0.5603\n",
      "Epoch 48/100\n",
      "136/136 [==============================] - 0s 3ms/step - loss: 0.5472\n",
      "Epoch 49/100\n",
      "136/136 [==============================] - 0s 3ms/step - loss: 0.5589\n",
      "Epoch 50/100\n",
      "136/136 [==============================] - 0s 3ms/step - loss: 0.5649\n",
      "Epoch 51/100\n",
      "136/136 [==============================] - 0s 3ms/step - loss: 0.5550\n",
      "Epoch 52/100\n",
      "136/136 [==============================] - 0s 3ms/step - loss: 0.5699\n",
      "Epoch 53/100\n",
      "136/136 [==============================] - 0s 3ms/step - loss: 0.5499\n",
      "Epoch 54/100\n",
      "136/136 [==============================] - 0s 3ms/step - loss: 0.5557\n",
      "Epoch 55/100\n",
      "136/136 [==============================] - 0s 3ms/step - loss: 0.5503\n",
      "Epoch 56/100\n",
      "136/136 [==============================] - 0s 3ms/step - loss: 0.5430\n",
      "Epoch 57/100\n",
      "136/136 [==============================] - 0s 3ms/step - loss: 0.5600\n",
      "Epoch 58/100\n",
      "136/136 [==============================] - 0s 3ms/step - loss: 0.5514\n",
      "Epoch 59/100\n",
      "136/136 [==============================] - 0s 3ms/step - loss: 0.5632\n",
      "Epoch 60/100\n",
      "136/136 [==============================] - 0s 3ms/step - loss: 0.5455\n",
      "Epoch 61/100\n",
      "136/136 [==============================] - 0s 3ms/step - loss: 0.5653\n",
      "Epoch 62/100\n",
      "136/136 [==============================] - 0s 3ms/step - loss: 0.5771\n",
      "Epoch 63/100\n",
      "136/136 [==============================] - 0s 3ms/step - loss: 0.5577\n",
      "Epoch 64/100\n",
      "136/136 [==============================] - 0s 3ms/step - loss: 0.5503\n",
      "Epoch 65/100\n",
      "136/136 [==============================] - 0s 3ms/step - loss: 0.5462\n",
      "Epoch 66/100\n",
      "136/136 [==============================] - 0s 3ms/step - loss: 0.5644\n",
      "Epoch 67/100\n",
      "136/136 [==============================] - 0s 3ms/step - loss: 0.5637\n",
      "Epoch 68/100\n",
      "136/136 [==============================] - 0s 3ms/step - loss: 0.5565\n",
      "Epoch 69/100\n",
      "136/136 [==============================] - 0s 3ms/step - loss: 0.5601\n",
      "Epoch 70/100\n",
      "136/136 [==============================] - 0s 3ms/step - loss: 0.5588\n",
      "Epoch 71/100\n",
      "136/136 [==============================] - 0s 3ms/step - loss: 0.5455\n",
      "Epoch 72/100\n",
      "136/136 [==============================] - 0s 3ms/step - loss: 0.5682\n",
      "Epoch 73/100\n",
      "136/136 [==============================] - 0s 3ms/step - loss: 0.5557\n",
      "Epoch 74/100\n",
      "136/136 [==============================] - 0s 3ms/step - loss: 0.5461\n",
      "Epoch 75/100\n",
      "136/136 [==============================] - 0s 3ms/step - loss: 0.5694\n",
      "Epoch 76/100\n",
      "136/136 [==============================] - 0s 3ms/step - loss: 0.5457\n",
      "Epoch 77/100\n",
      "136/136 [==============================] - 0s 3ms/step - loss: 0.5574\n",
      "Epoch 78/100\n",
      "136/136 [==============================] - 0s 3ms/step - loss: 0.5541\n",
      "Epoch 79/100\n",
      "136/136 [==============================] - 0s 3ms/step - loss: 0.5435\n",
      "Epoch 80/100\n",
      "136/136 [==============================] - 0s 3ms/step - loss: 0.5485\n",
      "Epoch 81/100\n",
      "136/136 [==============================] - 0s 3ms/step - loss: 0.5480\n",
      "Epoch 82/100\n",
      "136/136 [==============================] - 0s 3ms/step - loss: 0.5646\n",
      "Epoch 83/100\n",
      "136/136 [==============================] - 0s 3ms/step - loss: 0.5552\n",
      "Epoch 84/100\n",
      "136/136 [==============================] - 0s 3ms/step - loss: 0.5524\n",
      "Epoch 85/100\n",
      "136/136 [==============================] - 0s 3ms/step - loss: 0.5611\n",
      "Epoch 86/100\n",
      "136/136 [==============================] - 0s 3ms/step - loss: 0.5611\n",
      "Epoch 87/100\n",
      "136/136 [==============================] - 0s 3ms/step - loss: 0.5373\n",
      "Epoch 88/100\n",
      "136/136 [==============================] - 0s 3ms/step - loss: 0.5371\n",
      "Epoch 89/100\n",
      "136/136 [==============================] - 0s 3ms/step - loss: 0.5467\n",
      "Epoch 90/100\n",
      "136/136 [==============================] - 0s 3ms/step - loss: 0.5525\n",
      "Epoch 91/100\n",
      "136/136 [==============================] - 0s 3ms/step - loss: 0.5622\n",
      "Epoch 92/100\n",
      "136/136 [==============================] - 0s 3ms/step - loss: 0.5396\n",
      "Epoch 93/100\n",
      "136/136 [==============================] - 0s 3ms/step - loss: 0.5486\n",
      "Epoch 94/100\n",
      "136/136 [==============================] - 0s 3ms/step - loss: 0.5588\n",
      "Epoch 95/100\n",
      "136/136 [==============================] - 0s 3ms/step - loss: 0.5455\n",
      "Epoch 96/100\n",
      "136/136 [==============================] - 0s 3ms/step - loss: 0.5480\n",
      "Epoch 97/100\n",
      "136/136 [==============================] - 0s 3ms/step - loss: 0.5576\n",
      "Epoch 98/100\n",
      "136/136 [==============================] - 0s 3ms/step - loss: 0.5616\n",
      "Epoch 99/100\n",
      "136/136 [==============================] - 0s 3ms/step - loss: 0.5406\n",
      "Epoch 100/100\n",
      "136/136 [==============================] - 0s 3ms/step - loss: 0.5512\n"
     ]
    },
    {
     "data": {
      "text/plain": [
       "<keras.callbacks.History at 0x25ead085ee0>"
      ]
     },
     "execution_count": 44,
     "metadata": {},
     "output_type": "execute_result"
    }
   ],
   "source": [
    "model_regression.fit(X_wine_train, y_wine_train, epochs=100)"
   ]
  },
  {
   "cell_type": "code",
   "execution_count": 45,
   "metadata": {},
   "outputs": [
    {
     "name": "stdout",
     "output_type": "stream",
     "text": [
      "68/68 [==============================] - 0s 2ms/step\n",
      "MAE:\t1687.5040348706546\n",
      "MSE:\t2019.6200135268393\n",
      "RMSE:\t44.94018261563742\n",
      "MAPE:\t299.7081361754011\n",
      "R^2:\t-2671.4837398109553\n"
     ]
    }
   ],
   "source": [
    "print_r_metrics(y_wine_test, model_regression.predict(X_wine_test))"
   ]
  },
  {
   "attachments": {},
   "cell_type": "markdown",
   "metadata": {},
   "source": [
    "### Классификация"
   ]
  },
  {
   "cell_type": "code",
   "execution_count": 7,
   "metadata": {},
   "outputs": [
    {
     "data": {
      "text/plain": [
       "(42715, 23)"
      ]
     },
     "execution_count": 7,
     "metadata": {},
     "output_type": "execute_result"
    }
   ],
   "source": [
    "X_rain_train.shape"
   ]
  },
  {
   "cell_type": "code",
   "execution_count": 8,
   "metadata": {},
   "outputs": [
    {
     "name": "stdout",
     "output_type": "stream",
     "text": [
      "Model: \"sequential\"\n",
      "_________________________________________________________________\n",
      " Layer (type)                Output Shape              Param #   \n",
      "=================================================================\n",
      " dense (Dense)               (None, 32)                768       \n",
      "                                                                 \n",
      " dense_1 (Dense)             (None, 64)                2112      \n",
      "                                                                 \n",
      " dropout (Dropout)           (None, 64)                0         \n",
      "                                                                 \n",
      " dense_2 (Dense)             (None, 40)                2600      \n",
      "                                                                 \n",
      " dense_3 (Dense)             (None, 24)                984       \n",
      "                                                                 \n",
      " dense_4 (Dense)             (None, 16)                400       \n",
      "                                                                 \n",
      " dense_5 (Dense)             (None, 2)                 34        \n",
      "                                                                 \n",
      "=================================================================\n",
      "Total params: 6,898\n",
      "Trainable params: 6,898\n",
      "Non-trainable params: 0\n",
      "_________________________________________________________________\n"
     ]
    }
   ],
   "source": [
    "model_classification = tf.keras.Sequential(\n",
    "    [\n",
    "        tf.keras.layers.Dense(32, activation=\"relu\", input_shape=(23,)),\n",
    "        tf.keras.layers.Dense(64, activation=\"relu\"),\n",
    "        tf.keras.layers.Dropout(0.05),\n",
    "        tf.keras.layers.Dense(40, activation=\"relu\"),\n",
    "        tf.keras.layers.Dense(24, activation=\"relu\"),\n",
    "        tf.keras.layers.Dense(16, activation=\"relu\"),\n",
    "        tf.keras.layers.Dense(2, activation=\"softmax\"),\n",
    "    ]\n",
    ")\n",
    "\n",
    "model_classification.summary()"
   ]
  },
  {
   "cell_type": "code",
   "execution_count": 11,
   "metadata": {},
   "outputs": [],
   "source": [
    "model_classification.compile(optimizer=tf.keras.optimizers.Adam(learning_rate=0.005), loss=\"sparse_categorical_crossentropy\")"
   ]
  },
  {
   "cell_type": "code",
   "execution_count": 12,
   "metadata": {},
   "outputs": [
    {
     "name": "stdout",
     "output_type": "stream",
     "text": [
      "Epoch 1/5\n",
      "1335/1335 [==============================] - 9s 4ms/step - loss: 0.5128\n",
      "Epoch 2/5\n",
      "1335/1335 [==============================] - 5s 4ms/step - loss: 0.4839\n",
      "Epoch 3/5\n",
      "1335/1335 [==============================] - 4s 3ms/step - loss: 0.4769\n",
      "Epoch 4/5\n",
      "1335/1335 [==============================] - 5s 3ms/step - loss: 0.4747\n",
      "Epoch 5/5\n",
      "1335/1335 [==============================] - 5s 3ms/step - loss: 0.4706\n"
     ]
    },
    {
     "data": {
      "text/plain": [
       "<keras.callbacks.History at 0x208f3759340>"
      ]
     },
     "execution_count": 12,
     "metadata": {},
     "output_type": "execute_result"
    }
   ],
   "source": [
    "model_classification.fit(X_rain_train, y_rain_train, epochs=5)"
   ]
  },
  {
   "cell_type": "code",
   "execution_count": 19,
   "metadata": {},
   "outputs": [
    {
     "name": "stdout",
     "output_type": "stream",
     "text": [
      "658/658 [==============================] - 2s 3ms/step\n",
      "\tprecision\trecall\tf1-score\n",
      "0\t     0.80\t  0.74\t    0.77\n",
      "1\t     0.76\t  0.81\t    0.79\n",
      "accuracy\t\t\t    0.78\n",
      "\n"
     ]
    }
   ],
   "source": [
    "print_c_metrics(y_rain_test, np.argmax(model_classification.predict(X_rain_test), axis=1))"
   ]
  },
  {
   "attachments": {},
   "cell_type": "markdown",
   "metadata": {},
   "source": [
    "## Многослойный Персептрон"
   ]
  },
  {
   "cell_type": "code",
   "execution_count": null,
   "metadata": {},
   "outputs": [],
   "source": [
    "from mylib.perceptron import Perceptron"
   ]
  },
  {
   "cell_type": "code",
   "execution_count": null,
   "metadata": {},
   "outputs": [],
   "source": []
  }
 ],
 "metadata": {
  "kernelspec": {
   "display_name": "venv",
   "language": "python",
   "name": "python3"
  },
  "language_info": {
   "codemirror_mode": {
    "name": "ipython",
    "version": 3
   },
   "file_extension": ".py",
   "mimetype": "text/x-python",
   "name": "python",
   "nbconvert_exporter": "python",
   "pygments_lexer": "ipython3",
   "version": "3.9.13"
  },
  "orig_nbformat": 4
 },
 "nbformat": 4,
 "nbformat_minor": 2
}
