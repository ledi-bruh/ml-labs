{
 "cells": [
  {
   "cell_type": "markdown",
   "id": "43dfc1f0",
   "metadata": {},
   "source": [
    "# Лабораторная работа 1. Введение в машинное обучение. Обучение с учителем. Задача регрессии"
   ]
  },
  {
   "cell_type": "markdown",
   "id": "af0b0580",
   "metadata": {},
   "source": [
    "<b>Традиционное предупреждение для всех лабораторных работ:</b> перед обучением моделей необходимо выполнить предварительную обработку данных, которая <b>обязательно</b> включает в себя:\n",
    "- заполнение пропущенных значений (рекомедуется логика заполнения пропусков на основе типа данных, которая использовалась в РГР по Практикуму);\n",
    "- преобразование категориальных признаков в числовые (используйте one-hot кодирование или map; используйте знания с Практикума)."
   ]
  },
  {
   "cell_type": "markdown",
   "id": "b08d9e23",
   "metadata": {},
   "source": [
    "Предобработка может включать в себя другие действия, но выполнение описанных выше действий обязательно."
   ]
  },
  {
   "cell_type": "markdown",
   "id": "05aab9d1",
   "metadata": {},
   "source": [
    "Сделайте это один раз и сохраните в отдельный csv файл, а потом его используйте."
   ]
  },
  {
   "cell_type": "markdown",
   "id": "8f30384c",
   "metadata": {},
   "source": [
    "<b>Выполните следующие задания:</b>\n",
    "- загрузите датасет для регрессии, выделите целевой признак и предикторы, разбейте данные на обучающую и тестовую выборку;\n",
    "- решите задачу регрессии на ваших данных с использованием моделей sklearn (линейная регрессия + L1, L2), для моделей с регуляризациями подберите гиперпараметр;\n",
    "- решите задачу регрессии на ваших данных с использованием моделей sklearn (полиномиальная регрессия + L1, L2), для моделей с регуляризациями подберите гиперпараметр;\n",
    "- вычислите значения метрик $R^2$, MAE, MSE, RMSE, MAPE для всех обученных моделей; выберите лучшую модель;\n",
    "- самостоятельно реализуйте (желательно в виде класса) модель линейной регрессии с регуляризацией (можете выбрать L1 или L2);\n",
    "- самостоятельно реализуйте вычисление всех используемых метрик (в виде функций, принимающих два аргумента);\n",
    "- обучите вашу модель линейной регрессии на ваших данных; оцените качество с помощью реализованных вами метрик."
   ]
  },
  {
   "attachments": {},
   "cell_type": "markdown",
   "id": "4a61de30",
   "metadata": {},
   "source": [
    "## Решение:"
   ]
  },
  {
   "attachments": {},
   "cell_type": "markdown",
   "id": "216b8208",
   "metadata": {},
   "source": [
    "В файле *prepare_wine_data.ipynb* были заранее объеденены датасеты *winequality-red.csv* и *winequality-white.csv* в единый: *winequality.csv*. \n",
    "\n",
    "Было добавлено поле с типом вина."
   ]
  },
  {
   "attachments": {},
   "cell_type": "markdown",
   "id": "1b1d4606",
   "metadata": {},
   "source": [
    "#### Импортируем необходимые модули"
   ]
  },
  {
   "cell_type": "code",
   "execution_count": 1,
   "id": "f500beec",
   "metadata": {},
   "outputs": [],
   "source": [
    "import pandas as pd\n",
    "import numpy as np\n",
    "import matplotlib.pyplot as plt\n",
    "from sklearn.linear_model import LinearRegression, Lasso, Ridge\n",
    "from sklearn.model_selection import train_test_split, GridSearchCV, RandomizedSearchCV\n",
    "from sklearn.metrics import mean_squared_error, mean_absolute_error, mean_absolute_percentage_error\n",
    "from sklearn.preprocessing import PolynomialFeatures\n",
    "from sklearn.metrics import r2_score, accuracy_score\n",
    "from math import sqrt"
   ]
  },
  {
   "attachments": {},
   "cell_type": "markdown",
   "id": "440e0640",
   "metadata": {},
   "source": [
    "#### Загружаем датасет"
   ]
  },
  {
   "cell_type": "code",
   "execution_count": 2,
   "id": "e09fa149",
   "metadata": {},
   "outputs": [
    {
     "data": {
      "text/html": [
       "<div>\n",
       "<style scoped>\n",
       "    .dataframe tbody tr th:only-of-type {\n",
       "        vertical-align: middle;\n",
       "    }\n",
       "\n",
       "    .dataframe tbody tr th {\n",
       "        vertical-align: top;\n",
       "    }\n",
       "\n",
       "    .dataframe thead th {\n",
       "        text-align: right;\n",
       "    }\n",
       "</style>\n",
       "<table border=\"1\" class=\"dataframe\">\n",
       "  <thead>\n",
       "    <tr style=\"text-align: right;\">\n",
       "      <th></th>\n",
       "      <th>fixed acidity</th>\n",
       "      <th>volatile acidity</th>\n",
       "      <th>citric acid</th>\n",
       "      <th>residual sugar</th>\n",
       "      <th>chlorides</th>\n",
       "      <th>free sulfur dioxide</th>\n",
       "      <th>total sulfur dioxide</th>\n",
       "      <th>density</th>\n",
       "      <th>pH</th>\n",
       "      <th>sulphates</th>\n",
       "      <th>alcohol</th>\n",
       "      <th>quality</th>\n",
       "      <th>wine type</th>\n",
       "    </tr>\n",
       "  </thead>\n",
       "  <tbody>\n",
       "    <tr>\n",
       "      <th>0</th>\n",
       "      <td>7.4</td>\n",
       "      <td>0.70</td>\n",
       "      <td>0.00</td>\n",
       "      <td>1.9</td>\n",
       "      <td>0.076</td>\n",
       "      <td>11.0</td>\n",
       "      <td>34.0</td>\n",
       "      <td>0.99780</td>\n",
       "      <td>3.51</td>\n",
       "      <td>0.56</td>\n",
       "      <td>9.4</td>\n",
       "      <td>5</td>\n",
       "      <td>red</td>\n",
       "    </tr>\n",
       "    <tr>\n",
       "      <th>1</th>\n",
       "      <td>7.8</td>\n",
       "      <td>0.88</td>\n",
       "      <td>0.00</td>\n",
       "      <td>2.6</td>\n",
       "      <td>0.098</td>\n",
       "      <td>25.0</td>\n",
       "      <td>67.0</td>\n",
       "      <td>0.99680</td>\n",
       "      <td>3.20</td>\n",
       "      <td>0.68</td>\n",
       "      <td>9.8</td>\n",
       "      <td>5</td>\n",
       "      <td>red</td>\n",
       "    </tr>\n",
       "    <tr>\n",
       "      <th>2</th>\n",
       "      <td>7.8</td>\n",
       "      <td>0.76</td>\n",
       "      <td>0.04</td>\n",
       "      <td>2.3</td>\n",
       "      <td>0.092</td>\n",
       "      <td>15.0</td>\n",
       "      <td>54.0</td>\n",
       "      <td>0.99700</td>\n",
       "      <td>3.26</td>\n",
       "      <td>0.65</td>\n",
       "      <td>9.8</td>\n",
       "      <td>5</td>\n",
       "      <td>red</td>\n",
       "    </tr>\n",
       "    <tr>\n",
       "      <th>3</th>\n",
       "      <td>11.2</td>\n",
       "      <td>0.28</td>\n",
       "      <td>0.56</td>\n",
       "      <td>1.9</td>\n",
       "      <td>0.075</td>\n",
       "      <td>17.0</td>\n",
       "      <td>60.0</td>\n",
       "      <td>0.99800</td>\n",
       "      <td>3.16</td>\n",
       "      <td>0.58</td>\n",
       "      <td>9.8</td>\n",
       "      <td>6</td>\n",
       "      <td>red</td>\n",
       "    </tr>\n",
       "    <tr>\n",
       "      <th>4</th>\n",
       "      <td>7.4</td>\n",
       "      <td>0.70</td>\n",
       "      <td>0.00</td>\n",
       "      <td>1.9</td>\n",
       "      <td>0.076</td>\n",
       "      <td>11.0</td>\n",
       "      <td>34.0</td>\n",
       "      <td>0.99780</td>\n",
       "      <td>3.51</td>\n",
       "      <td>0.56</td>\n",
       "      <td>9.4</td>\n",
       "      <td>5</td>\n",
       "      <td>red</td>\n",
       "    </tr>\n",
       "    <tr>\n",
       "      <th>...</th>\n",
       "      <td>...</td>\n",
       "      <td>...</td>\n",
       "      <td>...</td>\n",
       "      <td>...</td>\n",
       "      <td>...</td>\n",
       "      <td>...</td>\n",
       "      <td>...</td>\n",
       "      <td>...</td>\n",
       "      <td>...</td>\n",
       "      <td>...</td>\n",
       "      <td>...</td>\n",
       "      <td>...</td>\n",
       "      <td>...</td>\n",
       "    </tr>\n",
       "    <tr>\n",
       "      <th>6492</th>\n",
       "      <td>6.2</td>\n",
       "      <td>0.21</td>\n",
       "      <td>0.29</td>\n",
       "      <td>1.6</td>\n",
       "      <td>0.039</td>\n",
       "      <td>24.0</td>\n",
       "      <td>92.0</td>\n",
       "      <td>0.99114</td>\n",
       "      <td>3.27</td>\n",
       "      <td>0.50</td>\n",
       "      <td>11.2</td>\n",
       "      <td>6</td>\n",
       "      <td>white</td>\n",
       "    </tr>\n",
       "    <tr>\n",
       "      <th>6493</th>\n",
       "      <td>6.6</td>\n",
       "      <td>0.32</td>\n",
       "      <td>0.36</td>\n",
       "      <td>8.0</td>\n",
       "      <td>0.047</td>\n",
       "      <td>57.0</td>\n",
       "      <td>168.0</td>\n",
       "      <td>0.99490</td>\n",
       "      <td>3.15</td>\n",
       "      <td>0.46</td>\n",
       "      <td>9.6</td>\n",
       "      <td>5</td>\n",
       "      <td>white</td>\n",
       "    </tr>\n",
       "    <tr>\n",
       "      <th>6494</th>\n",
       "      <td>6.5</td>\n",
       "      <td>0.24</td>\n",
       "      <td>0.19</td>\n",
       "      <td>1.2</td>\n",
       "      <td>0.041</td>\n",
       "      <td>30.0</td>\n",
       "      <td>111.0</td>\n",
       "      <td>0.99254</td>\n",
       "      <td>2.99</td>\n",
       "      <td>0.46</td>\n",
       "      <td>9.4</td>\n",
       "      <td>6</td>\n",
       "      <td>white</td>\n",
       "    </tr>\n",
       "    <tr>\n",
       "      <th>6495</th>\n",
       "      <td>5.5</td>\n",
       "      <td>0.29</td>\n",
       "      <td>0.30</td>\n",
       "      <td>1.1</td>\n",
       "      <td>0.022</td>\n",
       "      <td>20.0</td>\n",
       "      <td>110.0</td>\n",
       "      <td>0.98869</td>\n",
       "      <td>3.34</td>\n",
       "      <td>0.38</td>\n",
       "      <td>12.8</td>\n",
       "      <td>7</td>\n",
       "      <td>white</td>\n",
       "    </tr>\n",
       "    <tr>\n",
       "      <th>6496</th>\n",
       "      <td>6.0</td>\n",
       "      <td>0.21</td>\n",
       "      <td>0.38</td>\n",
       "      <td>0.8</td>\n",
       "      <td>0.020</td>\n",
       "      <td>22.0</td>\n",
       "      <td>98.0</td>\n",
       "      <td>0.98941</td>\n",
       "      <td>3.26</td>\n",
       "      <td>0.32</td>\n",
       "      <td>11.8</td>\n",
       "      <td>6</td>\n",
       "      <td>white</td>\n",
       "    </tr>\n",
       "  </tbody>\n",
       "</table>\n",
       "<p>6497 rows × 13 columns</p>\n",
       "</div>"
      ],
      "text/plain": [
       "      fixed acidity  volatile acidity  citric acid  residual sugar  chlorides  \\\n",
       "0               7.4              0.70         0.00             1.9      0.076   \n",
       "1               7.8              0.88         0.00             2.6      0.098   \n",
       "2               7.8              0.76         0.04             2.3      0.092   \n",
       "3              11.2              0.28         0.56             1.9      0.075   \n",
       "4               7.4              0.70         0.00             1.9      0.076   \n",
       "...             ...               ...          ...             ...        ...   \n",
       "6492            6.2              0.21         0.29             1.6      0.039   \n",
       "6493            6.6              0.32         0.36             8.0      0.047   \n",
       "6494            6.5              0.24         0.19             1.2      0.041   \n",
       "6495            5.5              0.29         0.30             1.1      0.022   \n",
       "6496            6.0              0.21         0.38             0.8      0.020   \n",
       "\n",
       "      free sulfur dioxide  total sulfur dioxide  density    pH  sulphates  \\\n",
       "0                    11.0                  34.0  0.99780  3.51       0.56   \n",
       "1                    25.0                  67.0  0.99680  3.20       0.68   \n",
       "2                    15.0                  54.0  0.99700  3.26       0.65   \n",
       "3                    17.0                  60.0  0.99800  3.16       0.58   \n",
       "4                    11.0                  34.0  0.99780  3.51       0.56   \n",
       "...                   ...                   ...      ...   ...        ...   \n",
       "6492                 24.0                  92.0  0.99114  3.27       0.50   \n",
       "6493                 57.0                 168.0  0.99490  3.15       0.46   \n",
       "6494                 30.0                 111.0  0.99254  2.99       0.46   \n",
       "6495                 20.0                 110.0  0.98869  3.34       0.38   \n",
       "6496                 22.0                  98.0  0.98941  3.26       0.32   \n",
       "\n",
       "      alcohol  quality wine type  \n",
       "0         9.4        5       red  \n",
       "1         9.8        5       red  \n",
       "2         9.8        5       red  \n",
       "3         9.8        6       red  \n",
       "4         9.4        5       red  \n",
       "...       ...      ...       ...  \n",
       "6492     11.2        6     white  \n",
       "6493      9.6        5     white  \n",
       "6494      9.4        6     white  \n",
       "6495     12.8        7     white  \n",
       "6496     11.8        6     white  \n",
       "\n",
       "[6497 rows x 13 columns]"
      ]
     },
     "execution_count": 2,
     "metadata": {},
     "output_type": "execute_result"
    }
   ],
   "source": [
    "data = pd.read_csv('../data/winequality.csv', sep=';')\n",
    "data"
   ]
  },
  {
   "attachments": {},
   "cell_type": "markdown",
   "id": "6b6818f6",
   "metadata": {},
   "source": [
    "#### Преобразуем категориальный признак в числовой и проверяем данные на пустые значения"
   ]
  },
  {
   "cell_type": "code",
   "execution_count": 3,
   "id": "c9619686",
   "metadata": {},
   "outputs": [
    {
     "data": {
      "text/html": [
       "<div>\n",
       "<style scoped>\n",
       "    .dataframe tbody tr th:only-of-type {\n",
       "        vertical-align: middle;\n",
       "    }\n",
       "\n",
       "    .dataframe tbody tr th {\n",
       "        vertical-align: top;\n",
       "    }\n",
       "\n",
       "    .dataframe thead th {\n",
       "        text-align: right;\n",
       "    }\n",
       "</style>\n",
       "<table border=\"1\" class=\"dataframe\">\n",
       "  <thead>\n",
       "    <tr style=\"text-align: right;\">\n",
       "      <th></th>\n",
       "      <th>fixed acidity</th>\n",
       "      <th>volatile acidity</th>\n",
       "      <th>citric acid</th>\n",
       "      <th>residual sugar</th>\n",
       "      <th>chlorides</th>\n",
       "      <th>free sulfur dioxide</th>\n",
       "      <th>total sulfur dioxide</th>\n",
       "      <th>density</th>\n",
       "      <th>pH</th>\n",
       "      <th>sulphates</th>\n",
       "      <th>alcohol</th>\n",
       "      <th>quality</th>\n",
       "      <th>wine type</th>\n",
       "    </tr>\n",
       "  </thead>\n",
       "  <tbody>\n",
       "    <tr>\n",
       "      <th>0</th>\n",
       "      <td>7.4</td>\n",
       "      <td>0.70</td>\n",
       "      <td>0.00</td>\n",
       "      <td>1.9</td>\n",
       "      <td>0.076</td>\n",
       "      <td>11.0</td>\n",
       "      <td>34.0</td>\n",
       "      <td>0.99780</td>\n",
       "      <td>3.51</td>\n",
       "      <td>0.56</td>\n",
       "      <td>9.4</td>\n",
       "      <td>5</td>\n",
       "      <td>0</td>\n",
       "    </tr>\n",
       "    <tr>\n",
       "      <th>1</th>\n",
       "      <td>7.8</td>\n",
       "      <td>0.88</td>\n",
       "      <td>0.00</td>\n",
       "      <td>2.6</td>\n",
       "      <td>0.098</td>\n",
       "      <td>25.0</td>\n",
       "      <td>67.0</td>\n",
       "      <td>0.99680</td>\n",
       "      <td>3.20</td>\n",
       "      <td>0.68</td>\n",
       "      <td>9.8</td>\n",
       "      <td>5</td>\n",
       "      <td>0</td>\n",
       "    </tr>\n",
       "    <tr>\n",
       "      <th>2</th>\n",
       "      <td>7.8</td>\n",
       "      <td>0.76</td>\n",
       "      <td>0.04</td>\n",
       "      <td>2.3</td>\n",
       "      <td>0.092</td>\n",
       "      <td>15.0</td>\n",
       "      <td>54.0</td>\n",
       "      <td>0.99700</td>\n",
       "      <td>3.26</td>\n",
       "      <td>0.65</td>\n",
       "      <td>9.8</td>\n",
       "      <td>5</td>\n",
       "      <td>0</td>\n",
       "    </tr>\n",
       "    <tr>\n",
       "      <th>3</th>\n",
       "      <td>11.2</td>\n",
       "      <td>0.28</td>\n",
       "      <td>0.56</td>\n",
       "      <td>1.9</td>\n",
       "      <td>0.075</td>\n",
       "      <td>17.0</td>\n",
       "      <td>60.0</td>\n",
       "      <td>0.99800</td>\n",
       "      <td>3.16</td>\n",
       "      <td>0.58</td>\n",
       "      <td>9.8</td>\n",
       "      <td>6</td>\n",
       "      <td>0</td>\n",
       "    </tr>\n",
       "    <tr>\n",
       "      <th>4</th>\n",
       "      <td>7.4</td>\n",
       "      <td>0.70</td>\n",
       "      <td>0.00</td>\n",
       "      <td>1.9</td>\n",
       "      <td>0.076</td>\n",
       "      <td>11.0</td>\n",
       "      <td>34.0</td>\n",
       "      <td>0.99780</td>\n",
       "      <td>3.51</td>\n",
       "      <td>0.56</td>\n",
       "      <td>9.4</td>\n",
       "      <td>5</td>\n",
       "      <td>0</td>\n",
       "    </tr>\n",
       "    <tr>\n",
       "      <th>...</th>\n",
       "      <td>...</td>\n",
       "      <td>...</td>\n",
       "      <td>...</td>\n",
       "      <td>...</td>\n",
       "      <td>...</td>\n",
       "      <td>...</td>\n",
       "      <td>...</td>\n",
       "      <td>...</td>\n",
       "      <td>...</td>\n",
       "      <td>...</td>\n",
       "      <td>...</td>\n",
       "      <td>...</td>\n",
       "      <td>...</td>\n",
       "    </tr>\n",
       "    <tr>\n",
       "      <th>6492</th>\n",
       "      <td>6.2</td>\n",
       "      <td>0.21</td>\n",
       "      <td>0.29</td>\n",
       "      <td>1.6</td>\n",
       "      <td>0.039</td>\n",
       "      <td>24.0</td>\n",
       "      <td>92.0</td>\n",
       "      <td>0.99114</td>\n",
       "      <td>3.27</td>\n",
       "      <td>0.50</td>\n",
       "      <td>11.2</td>\n",
       "      <td>6</td>\n",
       "      <td>1</td>\n",
       "    </tr>\n",
       "    <tr>\n",
       "      <th>6493</th>\n",
       "      <td>6.6</td>\n",
       "      <td>0.32</td>\n",
       "      <td>0.36</td>\n",
       "      <td>8.0</td>\n",
       "      <td>0.047</td>\n",
       "      <td>57.0</td>\n",
       "      <td>168.0</td>\n",
       "      <td>0.99490</td>\n",
       "      <td>3.15</td>\n",
       "      <td>0.46</td>\n",
       "      <td>9.6</td>\n",
       "      <td>5</td>\n",
       "      <td>1</td>\n",
       "    </tr>\n",
       "    <tr>\n",
       "      <th>6494</th>\n",
       "      <td>6.5</td>\n",
       "      <td>0.24</td>\n",
       "      <td>0.19</td>\n",
       "      <td>1.2</td>\n",
       "      <td>0.041</td>\n",
       "      <td>30.0</td>\n",
       "      <td>111.0</td>\n",
       "      <td>0.99254</td>\n",
       "      <td>2.99</td>\n",
       "      <td>0.46</td>\n",
       "      <td>9.4</td>\n",
       "      <td>6</td>\n",
       "      <td>1</td>\n",
       "    </tr>\n",
       "    <tr>\n",
       "      <th>6495</th>\n",
       "      <td>5.5</td>\n",
       "      <td>0.29</td>\n",
       "      <td>0.30</td>\n",
       "      <td>1.1</td>\n",
       "      <td>0.022</td>\n",
       "      <td>20.0</td>\n",
       "      <td>110.0</td>\n",
       "      <td>0.98869</td>\n",
       "      <td>3.34</td>\n",
       "      <td>0.38</td>\n",
       "      <td>12.8</td>\n",
       "      <td>7</td>\n",
       "      <td>1</td>\n",
       "    </tr>\n",
       "    <tr>\n",
       "      <th>6496</th>\n",
       "      <td>6.0</td>\n",
       "      <td>0.21</td>\n",
       "      <td>0.38</td>\n",
       "      <td>0.8</td>\n",
       "      <td>0.020</td>\n",
       "      <td>22.0</td>\n",
       "      <td>98.0</td>\n",
       "      <td>0.98941</td>\n",
       "      <td>3.26</td>\n",
       "      <td>0.32</td>\n",
       "      <td>11.8</td>\n",
       "      <td>6</td>\n",
       "      <td>1</td>\n",
       "    </tr>\n",
       "  </tbody>\n",
       "</table>\n",
       "<p>6497 rows × 13 columns</p>\n",
       "</div>"
      ],
      "text/plain": [
       "      fixed acidity  volatile acidity  citric acid  residual sugar  chlorides  \\\n",
       "0               7.4              0.70         0.00             1.9      0.076   \n",
       "1               7.8              0.88         0.00             2.6      0.098   \n",
       "2               7.8              0.76         0.04             2.3      0.092   \n",
       "3              11.2              0.28         0.56             1.9      0.075   \n",
       "4               7.4              0.70         0.00             1.9      0.076   \n",
       "...             ...               ...          ...             ...        ...   \n",
       "6492            6.2              0.21         0.29             1.6      0.039   \n",
       "6493            6.6              0.32         0.36             8.0      0.047   \n",
       "6494            6.5              0.24         0.19             1.2      0.041   \n",
       "6495            5.5              0.29         0.30             1.1      0.022   \n",
       "6496            6.0              0.21         0.38             0.8      0.020   \n",
       "\n",
       "      free sulfur dioxide  total sulfur dioxide  density    pH  sulphates  \\\n",
       "0                    11.0                  34.0  0.99780  3.51       0.56   \n",
       "1                    25.0                  67.0  0.99680  3.20       0.68   \n",
       "2                    15.0                  54.0  0.99700  3.26       0.65   \n",
       "3                    17.0                  60.0  0.99800  3.16       0.58   \n",
       "4                    11.0                  34.0  0.99780  3.51       0.56   \n",
       "...                   ...                   ...      ...   ...        ...   \n",
       "6492                 24.0                  92.0  0.99114  3.27       0.50   \n",
       "6493                 57.0                 168.0  0.99490  3.15       0.46   \n",
       "6494                 30.0                 111.0  0.99254  2.99       0.46   \n",
       "6495                 20.0                 110.0  0.98869  3.34       0.38   \n",
       "6496                 22.0                  98.0  0.98941  3.26       0.32   \n",
       "\n",
       "      alcohol  quality  wine type  \n",
       "0         9.4        5          0  \n",
       "1         9.8        5          0  \n",
       "2         9.8        5          0  \n",
       "3         9.8        6          0  \n",
       "4         9.4        5          0  \n",
       "...       ...      ...        ...  \n",
       "6492     11.2        6          1  \n",
       "6493      9.6        5          1  \n",
       "6494      9.4        6          1  \n",
       "6495     12.8        7          1  \n",
       "6496     11.8        6          1  \n",
       "\n",
       "[6497 rows x 13 columns]"
      ]
     },
     "execution_count": 3,
     "metadata": {},
     "output_type": "execute_result"
    }
   ],
   "source": [
    "data['wine type'] = data['wine type'].map({'red': 0, 'white': 1})\n",
    "data"
   ]
  },
  {
   "cell_type": "code",
   "execution_count": 4,
   "id": "8cfc0774",
   "metadata": {},
   "outputs": [
    {
     "data": {
      "text/plain": [
       "fixed acidity           False\n",
       "volatile acidity        False\n",
       "citric acid             False\n",
       "residual sugar          False\n",
       "chlorides               False\n",
       "free sulfur dioxide     False\n",
       "total sulfur dioxide    False\n",
       "density                 False\n",
       "pH                      False\n",
       "sulphates               False\n",
       "alcohol                 False\n",
       "quality                 False\n",
       "wine type               False\n",
       "dtype: bool"
      ]
     },
     "execution_count": 4,
     "metadata": {},
     "output_type": "execute_result"
    }
   ],
   "source": [
    "data.isnull().all()"
   ]
  },
  {
   "attachments": {},
   "cell_type": "markdown",
   "id": "bd167cb0",
   "metadata": {},
   "source": [
    "Пустых значений нет"
   ]
  },
  {
   "attachments": {},
   "cell_type": "markdown",
   "id": "8685c3b0",
   "metadata": {},
   "source": [
    "#### Выделяем целевой признак и предикторы"
   ]
  },
  {
   "cell_type": "code",
   "execution_count": 5,
   "id": "c6a4d936",
   "metadata": {
    "tags": []
   },
   "outputs": [],
   "source": [
    "y = data['quality']\n",
    "X = data.drop(['quality'], axis=1)"
   ]
  },
  {
   "cell_type": "code",
   "execution_count": 6,
   "id": "b55927aa",
   "metadata": {},
   "outputs": [
    {
     "data": {
      "text/plain": [
       "0       5\n",
       "1       5\n",
       "2       5\n",
       "3       6\n",
       "4       5\n",
       "       ..\n",
       "6492    6\n",
       "6493    5\n",
       "6494    6\n",
       "6495    7\n",
       "6496    6\n",
       "Name: quality, Length: 6497, dtype: int64"
      ]
     },
     "metadata": {},
     "output_type": "display_data"
    },
    {
     "data": {
      "text/html": [
       "<div>\n",
       "<style scoped>\n",
       "    .dataframe tbody tr th:only-of-type {\n",
       "        vertical-align: middle;\n",
       "    }\n",
       "\n",
       "    .dataframe tbody tr th {\n",
       "        vertical-align: top;\n",
       "    }\n",
       "\n",
       "    .dataframe thead th {\n",
       "        text-align: right;\n",
       "    }\n",
       "</style>\n",
       "<table border=\"1\" class=\"dataframe\">\n",
       "  <thead>\n",
       "    <tr style=\"text-align: right;\">\n",
       "      <th></th>\n",
       "      <th>fixed acidity</th>\n",
       "      <th>volatile acidity</th>\n",
       "      <th>citric acid</th>\n",
       "      <th>residual sugar</th>\n",
       "      <th>chlorides</th>\n",
       "      <th>free sulfur dioxide</th>\n",
       "      <th>total sulfur dioxide</th>\n",
       "      <th>density</th>\n",
       "      <th>pH</th>\n",
       "      <th>sulphates</th>\n",
       "      <th>alcohol</th>\n",
       "      <th>wine type</th>\n",
       "    </tr>\n",
       "  </thead>\n",
       "  <tbody>\n",
       "    <tr>\n",
       "      <th>0</th>\n",
       "      <td>7.4</td>\n",
       "      <td>0.70</td>\n",
       "      <td>0.00</td>\n",
       "      <td>1.9</td>\n",
       "      <td>0.076</td>\n",
       "      <td>11.0</td>\n",
       "      <td>34.0</td>\n",
       "      <td>0.99780</td>\n",
       "      <td>3.51</td>\n",
       "      <td>0.56</td>\n",
       "      <td>9.4</td>\n",
       "      <td>0</td>\n",
       "    </tr>\n",
       "    <tr>\n",
       "      <th>1</th>\n",
       "      <td>7.8</td>\n",
       "      <td>0.88</td>\n",
       "      <td>0.00</td>\n",
       "      <td>2.6</td>\n",
       "      <td>0.098</td>\n",
       "      <td>25.0</td>\n",
       "      <td>67.0</td>\n",
       "      <td>0.99680</td>\n",
       "      <td>3.20</td>\n",
       "      <td>0.68</td>\n",
       "      <td>9.8</td>\n",
       "      <td>0</td>\n",
       "    </tr>\n",
       "    <tr>\n",
       "      <th>2</th>\n",
       "      <td>7.8</td>\n",
       "      <td>0.76</td>\n",
       "      <td>0.04</td>\n",
       "      <td>2.3</td>\n",
       "      <td>0.092</td>\n",
       "      <td>15.0</td>\n",
       "      <td>54.0</td>\n",
       "      <td>0.99700</td>\n",
       "      <td>3.26</td>\n",
       "      <td>0.65</td>\n",
       "      <td>9.8</td>\n",
       "      <td>0</td>\n",
       "    </tr>\n",
       "    <tr>\n",
       "      <th>3</th>\n",
       "      <td>11.2</td>\n",
       "      <td>0.28</td>\n",
       "      <td>0.56</td>\n",
       "      <td>1.9</td>\n",
       "      <td>0.075</td>\n",
       "      <td>17.0</td>\n",
       "      <td>60.0</td>\n",
       "      <td>0.99800</td>\n",
       "      <td>3.16</td>\n",
       "      <td>0.58</td>\n",
       "      <td>9.8</td>\n",
       "      <td>0</td>\n",
       "    </tr>\n",
       "    <tr>\n",
       "      <th>4</th>\n",
       "      <td>7.4</td>\n",
       "      <td>0.70</td>\n",
       "      <td>0.00</td>\n",
       "      <td>1.9</td>\n",
       "      <td>0.076</td>\n",
       "      <td>11.0</td>\n",
       "      <td>34.0</td>\n",
       "      <td>0.99780</td>\n",
       "      <td>3.51</td>\n",
       "      <td>0.56</td>\n",
       "      <td>9.4</td>\n",
       "      <td>0</td>\n",
       "    </tr>\n",
       "    <tr>\n",
       "      <th>...</th>\n",
       "      <td>...</td>\n",
       "      <td>...</td>\n",
       "      <td>...</td>\n",
       "      <td>...</td>\n",
       "      <td>...</td>\n",
       "      <td>...</td>\n",
       "      <td>...</td>\n",
       "      <td>...</td>\n",
       "      <td>...</td>\n",
       "      <td>...</td>\n",
       "      <td>...</td>\n",
       "      <td>...</td>\n",
       "    </tr>\n",
       "    <tr>\n",
       "      <th>6492</th>\n",
       "      <td>6.2</td>\n",
       "      <td>0.21</td>\n",
       "      <td>0.29</td>\n",
       "      <td>1.6</td>\n",
       "      <td>0.039</td>\n",
       "      <td>24.0</td>\n",
       "      <td>92.0</td>\n",
       "      <td>0.99114</td>\n",
       "      <td>3.27</td>\n",
       "      <td>0.50</td>\n",
       "      <td>11.2</td>\n",
       "      <td>1</td>\n",
       "    </tr>\n",
       "    <tr>\n",
       "      <th>6493</th>\n",
       "      <td>6.6</td>\n",
       "      <td>0.32</td>\n",
       "      <td>0.36</td>\n",
       "      <td>8.0</td>\n",
       "      <td>0.047</td>\n",
       "      <td>57.0</td>\n",
       "      <td>168.0</td>\n",
       "      <td>0.99490</td>\n",
       "      <td>3.15</td>\n",
       "      <td>0.46</td>\n",
       "      <td>9.6</td>\n",
       "      <td>1</td>\n",
       "    </tr>\n",
       "    <tr>\n",
       "      <th>6494</th>\n",
       "      <td>6.5</td>\n",
       "      <td>0.24</td>\n",
       "      <td>0.19</td>\n",
       "      <td>1.2</td>\n",
       "      <td>0.041</td>\n",
       "      <td>30.0</td>\n",
       "      <td>111.0</td>\n",
       "      <td>0.99254</td>\n",
       "      <td>2.99</td>\n",
       "      <td>0.46</td>\n",
       "      <td>9.4</td>\n",
       "      <td>1</td>\n",
       "    </tr>\n",
       "    <tr>\n",
       "      <th>6495</th>\n",
       "      <td>5.5</td>\n",
       "      <td>0.29</td>\n",
       "      <td>0.30</td>\n",
       "      <td>1.1</td>\n",
       "      <td>0.022</td>\n",
       "      <td>20.0</td>\n",
       "      <td>110.0</td>\n",
       "      <td>0.98869</td>\n",
       "      <td>3.34</td>\n",
       "      <td>0.38</td>\n",
       "      <td>12.8</td>\n",
       "      <td>1</td>\n",
       "    </tr>\n",
       "    <tr>\n",
       "      <th>6496</th>\n",
       "      <td>6.0</td>\n",
       "      <td>0.21</td>\n",
       "      <td>0.38</td>\n",
       "      <td>0.8</td>\n",
       "      <td>0.020</td>\n",
       "      <td>22.0</td>\n",
       "      <td>98.0</td>\n",
       "      <td>0.98941</td>\n",
       "      <td>3.26</td>\n",
       "      <td>0.32</td>\n",
       "      <td>11.8</td>\n",
       "      <td>1</td>\n",
       "    </tr>\n",
       "  </tbody>\n",
       "</table>\n",
       "<p>6497 rows × 12 columns</p>\n",
       "</div>"
      ],
      "text/plain": [
       "      fixed acidity  volatile acidity  citric acid  residual sugar  chlorides  \\\n",
       "0               7.4              0.70         0.00             1.9      0.076   \n",
       "1               7.8              0.88         0.00             2.6      0.098   \n",
       "2               7.8              0.76         0.04             2.3      0.092   \n",
       "3              11.2              0.28         0.56             1.9      0.075   \n",
       "4               7.4              0.70         0.00             1.9      0.076   \n",
       "...             ...               ...          ...             ...        ...   \n",
       "6492            6.2              0.21         0.29             1.6      0.039   \n",
       "6493            6.6              0.32         0.36             8.0      0.047   \n",
       "6494            6.5              0.24         0.19             1.2      0.041   \n",
       "6495            5.5              0.29         0.30             1.1      0.022   \n",
       "6496            6.0              0.21         0.38             0.8      0.020   \n",
       "\n",
       "      free sulfur dioxide  total sulfur dioxide  density    pH  sulphates  \\\n",
       "0                    11.0                  34.0  0.99780  3.51       0.56   \n",
       "1                    25.0                  67.0  0.99680  3.20       0.68   \n",
       "2                    15.0                  54.0  0.99700  3.26       0.65   \n",
       "3                    17.0                  60.0  0.99800  3.16       0.58   \n",
       "4                    11.0                  34.0  0.99780  3.51       0.56   \n",
       "...                   ...                   ...      ...   ...        ...   \n",
       "6492                 24.0                  92.0  0.99114  3.27       0.50   \n",
       "6493                 57.0                 168.0  0.99490  3.15       0.46   \n",
       "6494                 30.0                 111.0  0.99254  2.99       0.46   \n",
       "6495                 20.0                 110.0  0.98869  3.34       0.38   \n",
       "6496                 22.0                  98.0  0.98941  3.26       0.32   \n",
       "\n",
       "      alcohol  wine type  \n",
       "0         9.4          0  \n",
       "1         9.8          0  \n",
       "2         9.8          0  \n",
       "3         9.8          0  \n",
       "4         9.4          0  \n",
       "...       ...        ...  \n",
       "6492     11.2          1  \n",
       "6493      9.6          1  \n",
       "6494      9.4          1  \n",
       "6495     12.8          1  \n",
       "6496     11.8          1  \n",
       "\n",
       "[6497 rows x 12 columns]"
      ]
     },
     "metadata": {},
     "output_type": "display_data"
    }
   ],
   "source": [
    "display(y, X)"
   ]
  },
  {
   "attachments": {},
   "cell_type": "markdown",
   "id": "59946c25",
   "metadata": {},
   "source": [
    "#### Разбиваем данные на обучающую и тестовую выборки"
   ]
  },
  {
   "cell_type": "code",
   "execution_count": 7,
   "id": "16aaef51",
   "metadata": {},
   "outputs": [
    {
     "data": {
      "text/plain": [
       "((5197, 12), (5197,), (1300, 12), (1300,))"
      ]
     },
     "execution_count": 7,
     "metadata": {},
     "output_type": "execute_result"
    }
   ],
   "source": [
    "X_train, X_test, y_train, y_test = train_test_split(X, y, test_size=0.2)\n",
    "X_train.shape, y_train.shape, X_test.shape, y_test.shape"
   ]
  },
  {
   "attachments": {},
   "cell_type": "markdown",
   "id": "eee9f8a2",
   "metadata": {},
   "source": [
    "#### Решаем задачу регрессии с использованием моделей sklearn (линейная регрессия + L1, L2)"
   ]
  },
  {
   "cell_type": "code",
   "execution_count": 8,
   "id": "80e8b37e",
   "metadata": {},
   "outputs": [],
   "source": [
    "def print_metrics(y_test, y_pred):\n",
    "    print(\n",
    "        f'MAE: {mean_absolute_error(y_test, y_pred)}\\n'\n",
    "        f'MSE: {mean_squared_error(y_test, y_pred)}\\n'\n",
    "        f'RMSE: {sqrt(mean_squared_error(y_test, y_pred))}\\n'\n",
    "        f'MAPE: {mean_absolute_percentage_error(y_test, y_pred)}\\n'\n",
    "        f'R^2: {r2_score(y_test, y_pred)}'\n",
    "    )"
   ]
  },
  {
   "attachments": {},
   "cell_type": "markdown",
   "id": "6868523a",
   "metadata": {},
   "source": [
    "##### Модель линейной регрессии"
   ]
  },
  {
   "cell_type": "code",
   "execution_count": 9,
   "id": "ca6454d6",
   "metadata": {},
   "outputs": [],
   "source": [
    "lr = LinearRegression()\n",
    "lr.fit(X_train, y_train)\n",
    "y_pred = lr.predict(X_test)"
   ]
  },
  {
   "cell_type": "code",
   "execution_count": 10,
   "id": "4fc808c0",
   "metadata": {},
   "outputs": [
    {
     "name": "stdout",
     "output_type": "stream",
     "text": [
      "MAE: 0.581447244121327\n",
      "MSE: 0.570002794478094\n",
      "RMSE: 0.754985294213135\n",
      "MAPE: 0.10271568268741209\n",
      "R^2: 0.2530297990502762\n"
     ]
    },
    {
     "data": {
      "text/plain": [
       "array([ 7.93509015e-02, -1.52954838e+00, -1.03479604e-01,  5.96490399e-02,\n",
       "       -8.40354524e-01,  5.94057938e-03, -1.43989997e-03, -9.61762215e+01,\n",
       "        5.15390002e-01,  6.88015203e-01,  2.36424201e-01, -3.69252364e-01])"
      ]
     },
     "execution_count": 10,
     "metadata": {},
     "output_type": "execute_result"
    }
   ],
   "source": [
    "print_metrics(y_test, y_pred)\n",
    "lr.coef_"
   ]
  },
  {
   "attachments": {},
   "cell_type": "markdown",
   "id": "73a4d3f9",
   "metadata": {},
   "source": [
    "##### Модель линейной регрессии c регуляризацией L1 (Lasso)"
   ]
  },
  {
   "cell_type": "code",
   "execution_count": 11,
   "id": "4d268653",
   "metadata": {},
   "outputs": [
    {
     "name": "stdout",
     "output_type": "stream",
     "text": [
      "MAE: 0.617881278275854\n",
      "MSE: 0.6283558887857547\n",
      "RMSE: 0.7926890240098917\n",
      "MAPE: 0.10987651883805177\n",
      "R^2: 0.17655995889634934\n"
     ]
    },
    {
     "data": {
      "text/plain": [
       "array([-0.        , -0.        ,  0.        ,  0.0082669 , -0.        ,\n",
       "        0.00850162, -0.00122673, -0.        , -0.        ,  0.        ,\n",
       "        0.27906817,  0.        ])"
      ]
     },
     "execution_count": 11,
     "metadata": {},
     "output_type": "execute_result"
    }
   ],
   "source": [
    "lasso = Lasso(alpha=0.1).fit(X_train, y_train)\n",
    "y_pred = lasso.predict(X_test)\n",
    "\n",
    "print_metrics(y_test, y_pred)\n",
    "lasso.coef_"
   ]
  },
  {
   "attachments": {},
   "cell_type": "markdown",
   "id": "44273a96",
   "metadata": {},
   "source": [
    "Подбираем гиперпараметр"
   ]
  },
  {
   "cell_type": "code",
   "execution_count": 12,
   "id": "bcc12cc5",
   "metadata": {},
   "outputs": [],
   "source": [
    "params = {'alpha': np.arange(0, 1, 0.05)}"
   ]
  },
  {
   "attachments": {},
   "cell_type": "markdown",
   "id": "feeaf451",
   "metadata": {},
   "source": [
    "Пробуем GridSearchCV"
   ]
  },
  {
   "cell_type": "code",
   "execution_count": 13,
   "id": "f81c0753",
   "metadata": {},
   "outputs": [
    {
     "name": "stderr",
     "output_type": "stream",
     "text": [
      "c:\\Users\\podov\\Desktop\\Andrey\\Универ\\Машинное обучение\\ml-labs\\venv\\lib\\site-packages\\sklearn\\model_selection\\_validation.py:686: UserWarning: With alpha=0, this algorithm does not converge well. You are advised to use the LinearRegression estimator\n",
      "  estimator.fit(X_train, y_train, **fit_params)\n",
      "c:\\Users\\podov\\Desktop\\Andrey\\Универ\\Машинное обучение\\ml-labs\\venv\\lib\\site-packages\\sklearn\\linear_model\\_coordinate_descent.py:631: UserWarning: Coordinate descent with no regularization may lead to unexpected results and is discouraged.\n",
      "  model = cd_fast.enet_coordinate_descent(\n",
      "c:\\Users\\podov\\Desktop\\Andrey\\Универ\\Машинное обучение\\ml-labs\\venv\\lib\\site-packages\\sklearn\\linear_model\\_coordinate_descent.py:631: ConvergenceWarning: Objective did not converge. You might want to increase the number of iterations, check the scale of the features or consider increasing regularisation. Duality gap: 1.104e+03, tolerance: 3.175e-01 Linear regression models with null weight for the l1 regularization term are more efficiently fitted using one of the solvers implemented in sklearn.linear_model.Ridge/RidgeCV instead.\n",
      "  model = cd_fast.enet_coordinate_descent(\n",
      "c:\\Users\\podov\\Desktop\\Andrey\\Универ\\Машинное обучение\\ml-labs\\venv\\lib\\site-packages\\sklearn\\model_selection\\_validation.py:686: UserWarning: With alpha=0, this algorithm does not converge well. You are advised to use the LinearRegression estimator\n",
      "  estimator.fit(X_train, y_train, **fit_params)\n",
      "c:\\Users\\podov\\Desktop\\Andrey\\Универ\\Машинное обучение\\ml-labs\\venv\\lib\\site-packages\\sklearn\\linear_model\\_coordinate_descent.py:631: UserWarning: Coordinate descent with no regularization may lead to unexpected results and is discouraged.\n",
      "  model = cd_fast.enet_coordinate_descent(\n",
      "c:\\Users\\podov\\Desktop\\Andrey\\Универ\\Машинное обучение\\ml-labs\\venv\\lib\\site-packages\\sklearn\\linear_model\\_coordinate_descent.py:631: ConvergenceWarning: Objective did not converge. You might want to increase the number of iterations, check the scale of the features or consider increasing regularisation. Duality gap: 1.096e+03, tolerance: 3.189e-01 Linear regression models with null weight for the l1 regularization term are more efficiently fitted using one of the solvers implemented in sklearn.linear_model.Ridge/RidgeCV instead.\n",
      "  model = cd_fast.enet_coordinate_descent(\n",
      "c:\\Users\\podov\\Desktop\\Andrey\\Универ\\Машинное обучение\\ml-labs\\venv\\lib\\site-packages\\sklearn\\model_selection\\_validation.py:686: UserWarning: With alpha=0, this algorithm does not converge well. You are advised to use the LinearRegression estimator\n",
      "  estimator.fit(X_train, y_train, **fit_params)\n",
      "c:\\Users\\podov\\Desktop\\Andrey\\Универ\\Машинное обучение\\ml-labs\\venv\\lib\\site-packages\\sklearn\\linear_model\\_coordinate_descent.py:631: UserWarning: Coordinate descent with no regularization may lead to unexpected results and is discouraged.\n",
      "  model = cd_fast.enet_coordinate_descent(\n",
      "c:\\Users\\podov\\Desktop\\Andrey\\Универ\\Машинное обучение\\ml-labs\\venv\\lib\\site-packages\\sklearn\\linear_model\\_coordinate_descent.py:631: ConvergenceWarning: Objective did not converge. You might want to increase the number of iterations, check the scale of the features or consider increasing regularisation. Duality gap: 1.106e+03, tolerance: 3.164e-01 Linear regression models with null weight for the l1 regularization term are more efficiently fitted using one of the solvers implemented in sklearn.linear_model.Ridge/RidgeCV instead.\n",
      "  model = cd_fast.enet_coordinate_descent(\n",
      "c:\\Users\\podov\\Desktop\\Andrey\\Универ\\Машинное обучение\\ml-labs\\venv\\lib\\site-packages\\sklearn\\model_selection\\_validation.py:686: UserWarning: With alpha=0, this algorithm does not converge well. You are advised to use the LinearRegression estimator\n",
      "  estimator.fit(X_train, y_train, **fit_params)\n",
      "c:\\Users\\podov\\Desktop\\Andrey\\Универ\\Машинное обучение\\ml-labs\\venv\\lib\\site-packages\\sklearn\\linear_model\\_coordinate_descent.py:631: UserWarning: Coordinate descent with no regularization may lead to unexpected results and is discouraged.\n",
      "  model = cd_fast.enet_coordinate_descent(\n",
      "c:\\Users\\podov\\Desktop\\Andrey\\Универ\\Машинное обучение\\ml-labs\\venv\\lib\\site-packages\\sklearn\\linear_model\\_coordinate_descent.py:631: ConvergenceWarning: Objective did not converge. You might want to increase the number of iterations, check the scale of the features or consider increasing regularisation. Duality gap: 1.099e+03, tolerance: 3.159e-01 Linear regression models with null weight for the l1 regularization term are more efficiently fitted using one of the solvers implemented in sklearn.linear_model.Ridge/RidgeCV instead.\n",
      "  model = cd_fast.enet_coordinate_descent(\n",
      "c:\\Users\\podov\\Desktop\\Andrey\\Универ\\Машинное обучение\\ml-labs\\venv\\lib\\site-packages\\sklearn\\model_selection\\_validation.py:686: UserWarning: With alpha=0, this algorithm does not converge well. You are advised to use the LinearRegression estimator\n",
      "  estimator.fit(X_train, y_train, **fit_params)\n",
      "c:\\Users\\podov\\Desktop\\Andrey\\Универ\\Машинное обучение\\ml-labs\\venv\\lib\\site-packages\\sklearn\\linear_model\\_coordinate_descent.py:631: UserWarning: Coordinate descent with no regularization may lead to unexpected results and is discouraged.\n",
      "  model = cd_fast.enet_coordinate_descent(\n",
      "c:\\Users\\podov\\Desktop\\Andrey\\Универ\\Машинное обучение\\ml-labs\\venv\\lib\\site-packages\\sklearn\\linear_model\\_coordinate_descent.py:631: ConvergenceWarning: Objective did not converge. You might want to increase the number of iterations, check the scale of the features or consider increasing regularisation. Duality gap: 1.082e+03, tolerance: 3.159e-01 Linear regression models with null weight for the l1 regularization term are more efficiently fitted using one of the solvers implemented in sklearn.linear_model.Ridge/RidgeCV instead.\n",
      "  model = cd_fast.enet_coordinate_descent(\n",
      "c:\\Users\\podov\\Desktop\\Andrey\\Универ\\Машинное обучение\\ml-labs\\venv\\lib\\site-packages\\sklearn\\model_selection\\_search.py:909: UserWarning: With alpha=0, this algorithm does not converge well. You are advised to use the LinearRegression estimator\n",
      "  self.best_estimator_.fit(X, y, **fit_params)\n",
      "c:\\Users\\podov\\Desktop\\Andrey\\Универ\\Машинное обучение\\ml-labs\\venv\\lib\\site-packages\\sklearn\\linear_model\\_coordinate_descent.py:631: UserWarning: Coordinate descent with no regularization may lead to unexpected results and is discouraged.\n",
      "  model = cd_fast.enet_coordinate_descent(\n",
      "c:\\Users\\podov\\Desktop\\Andrey\\Универ\\Машинное обучение\\ml-labs\\venv\\lib\\site-packages\\sklearn\\linear_model\\_coordinate_descent.py:631: ConvergenceWarning: Objective did not converge. You might want to increase the number of iterations, check the scale of the features or consider increasing regularisation. Duality gap: 1.373e+03, tolerance: 3.962e-01 Linear regression models with null weight for the l1 regularization term are more efficiently fitted using one of the solvers implemented in sklearn.linear_model.Ridge/RidgeCV instead.\n",
      "  model = cd_fast.enet_coordinate_descent(\n"
     ]
    }
   ],
   "source": [
    "lasso_opt = GridSearchCV(Lasso(), params).fit(X_train, y_train)"
   ]
  },
  {
   "cell_type": "code",
   "execution_count": 14,
   "id": "6ac56fdc",
   "metadata": {},
   "outputs": [
    {
     "data": {
      "text/plain": [
       "{'alpha': 0.0}"
      ]
     },
     "execution_count": 14,
     "metadata": {},
     "output_type": "execute_result"
    }
   ],
   "source": [
    "lasso_opt.best_params_"
   ]
  },
  {
   "attachments": {},
   "cell_type": "markdown",
   "id": "c79d61d6",
   "metadata": {},
   "source": [
    "and RandomizedSearchCV"
   ]
  },
  {
   "cell_type": "code",
   "execution_count": 15,
   "id": "9fe49e7e",
   "metadata": {},
   "outputs": [],
   "source": [
    "lasso_opt = RandomizedSearchCV(Lasso(), params).fit(X_train, y_train)"
   ]
  },
  {
   "cell_type": "code",
   "execution_count": 16,
   "id": "c1f30706",
   "metadata": {},
   "outputs": [
    {
     "data": {
      "text/plain": [
       "({'alpha': 0.1}, 0.22195706088174214)"
      ]
     },
     "execution_count": 16,
     "metadata": {},
     "output_type": "execute_result"
    }
   ],
   "source": [
    "lasso_opt.best_params_, lasso_opt.best_score_"
   ]
  },
  {
   "attachments": {},
   "cell_type": "markdown",
   "id": "c0024e1f",
   "metadata": {},
   "source": [
    "##### Модель линейной регрессии c регуляризацией L2 (Ridge)"
   ]
  },
  {
   "cell_type": "code",
   "execution_count": 17,
   "id": "d43ea57c",
   "metadata": {},
   "outputs": [
    {
     "name": "stdout",
     "output_type": "stream",
     "text": [
      "MAE: 0.5847313456392471\n",
      "MSE: 0.5764168636639048\n",
      "RMSE: 0.7592212218213508\n",
      "MAPE: 0.10326448639488119\n",
      "R^2: 0.24462436912073127\n"
     ]
    },
    {
     "data": {
      "text/plain": [
       "array([-6.29292615e-04, -1.58826351e+00, -1.34094322e-01,  2.29864727e-02,\n",
       "       -9.47165807e-01,  6.64052534e-03, -1.77479461e-03, -4.10989733e-01,\n",
       "        1.42908794e-01,  5.56454224e-01,  3.41118549e-01, -1.62937881e-01])"
      ]
     },
     "execution_count": 17,
     "metadata": {},
     "output_type": "execute_result"
    }
   ],
   "source": [
    "ridge = Ridge(alpha=0.5).fit(X_train, y_train)\n",
    "y_pred = ridge.predict(X_test)\n",
    "\n",
    "print_metrics(y_test, y_pred)\n",
    "ridge.coef_"
   ]
  },
  {
   "cell_type": "markdown",
   "id": "530ae7bb",
   "metadata": {},
   "source": [
    "Подбираем гиперпараметр"
   ]
  },
  {
   "cell_type": "markdown",
   "id": "79ccbbd1",
   "metadata": {},
   "source": [
    "Пробуем GridSearchCV"
   ]
  },
  {
   "cell_type": "code",
   "execution_count": 18,
   "id": "4e682feb",
   "metadata": {},
   "outputs": [],
   "source": [
    "ridge_opt = GridSearchCV(Ridge(), params).fit(X_train, y_train)"
   ]
  },
  {
   "cell_type": "code",
   "execution_count": 19,
   "id": "0e1f11fa",
   "metadata": {},
   "outputs": [
    {
     "data": {
      "text/plain": [
       "({'alpha': 0.0}, 0.30138721744616953)"
      ]
     },
     "execution_count": 19,
     "metadata": {},
     "output_type": "execute_result"
    }
   ],
   "source": [
    "ridge_opt.best_params_, ridge_opt.best_score_"
   ]
  },
  {
   "cell_type": "markdown",
   "id": "6ae72ac2",
   "metadata": {},
   "source": [
    "and RandomizedSearchCV"
   ]
  },
  {
   "cell_type": "code",
   "execution_count": 20,
   "id": "b29cea72",
   "metadata": {},
   "outputs": [],
   "source": [
    "ridge_opt = RandomizedSearchCV(Ridge(), params).fit(X_train, y_train)"
   ]
  },
  {
   "cell_type": "code",
   "execution_count": 21,
   "id": "1562c4b5",
   "metadata": {},
   "outputs": [
    {
     "data": {
      "text/plain": [
       "({'alpha': 0.2}, 0.29762542245979606)"
      ]
     },
     "execution_count": 21,
     "metadata": {},
     "output_type": "execute_result"
    }
   ],
   "source": [
    "ridge_opt.best_params_, ridge_opt.best_score_"
   ]
  },
  {
   "attachments": {},
   "cell_type": "markdown",
   "id": "3d30cfa2",
   "metadata": {},
   "source": [
    "#### Решаем задачу регрессии с использованием моделей sklearn (полиномиальная регрессия + L1, L2)"
   ]
  },
  {
   "cell_type": "code",
   "execution_count": 22,
   "id": "7add26ec",
   "metadata": {},
   "outputs": [
    {
     "data": {
      "text/plain": [
       "array([[  1.  ,   7.4 ,   0.7 , ...,  88.36,   0.  ,   0.  ],\n",
       "       [  1.  ,   7.8 ,   0.88, ...,  96.04,   0.  ,   0.  ],\n",
       "       [  1.  ,   7.8 ,   0.76, ...,  96.04,   0.  ,   0.  ],\n",
       "       ...,\n",
       "       [  1.  ,   6.5 ,   0.24, ...,  88.36,   9.4 ,   1.  ],\n",
       "       [  1.  ,   5.5 ,   0.29, ..., 163.84,  12.8 ,   1.  ],\n",
       "       [  1.  ,   6.  ,   0.21, ..., 139.24,  11.8 ,   1.  ]])"
      ]
     },
     "execution_count": 22,
     "metadata": {},
     "output_type": "execute_result"
    }
   ],
   "source": [
    "pf = PolynomialFeatures(2)\n",
    "X_p = pf.fit_transform(X)\n",
    "X_p"
   ]
  },
  {
   "cell_type": "code",
   "execution_count": 23,
   "id": "e362c1ff",
   "metadata": {},
   "outputs": [
    {
     "data": {
      "text/plain": [
       "((6497, 91), (6497, 12))"
      ]
     },
     "execution_count": 23,
     "metadata": {},
     "output_type": "execute_result"
    }
   ],
   "source": [
    "X_p.shape, X.shape"
   ]
  },
  {
   "cell_type": "code",
   "execution_count": 24,
   "id": "ba1ec749",
   "metadata": {},
   "outputs": [
    {
     "data": {
      "text/plain": [
       "((5197, 91), (1300, 91), (5197,), (1300,))"
      ]
     },
     "execution_count": 24,
     "metadata": {},
     "output_type": "execute_result"
    }
   ],
   "source": [
    "X_p_train, X_p_test, y_p_train, y_p_test = train_test_split(X_p, y, test_size=0.2)\n",
    "X_p_train.shape, X_p_test.shape, y_p_train.shape, y_p_test.shape"
   ]
  },
  {
   "attachments": {},
   "cell_type": "markdown",
   "id": "261a47b0",
   "metadata": {},
   "source": [
    "##### Модель полиномиальной регрессии"
   ]
  },
  {
   "cell_type": "code",
   "execution_count": 25,
   "id": "ea8e077a",
   "metadata": {},
   "outputs": [],
   "source": [
    "lr_p = LinearRegression().fit(X_p_train, y_p_train)\n",
    "y_p_pred = lr_p.predict(X_p_test)"
   ]
  },
  {
   "cell_type": "code",
   "execution_count": 26,
   "id": "93bf256b",
   "metadata": {},
   "outputs": [
    {
     "name": "stdout",
     "output_type": "stream",
     "text": [
      "MAE: 0.5592944583362502\n",
      "MSE: 0.7402013722768483\n",
      "RMSE: 0.86034956400108\n",
      "MAPE: 0.09979261863734501\n",
      "R^2: 0.021537894221030585\n"
     ]
    }
   ],
   "source": [
    "print_metrics(y_p_test, y_p_pred)"
   ]
  },
  {
   "attachments": {},
   "cell_type": "markdown",
   "id": "d11570fd",
   "metadata": {},
   "source": [
    "##### Модель полиномиальной регрессии c регуляризацией L1 (Lasso)"
   ]
  },
  {
   "cell_type": "code",
   "execution_count": 27,
   "id": "5344d4d6",
   "metadata": {},
   "outputs": [
    {
     "name": "stdout",
     "output_type": "stream",
     "text": [
      "MAE: 0.5809878062419863\n",
      "MSE: 0.5746335271249151\n",
      "RMSE: 0.7580458608322554\n",
      "MAPE: 0.10378653648924605\n",
      "R^2: 0.2403997721966573\n"
     ]
    }
   ],
   "source": [
    "lasso_p = Lasso(alpha=0.3).fit(X_p_train, y_p_train)\n",
    "y_p_pred = lasso_p.predict(X_p_test)\n",
    "print_metrics(y_p_test, y_p_pred)"
   ]
  },
  {
   "cell_type": "code",
   "execution_count": null,
   "id": "984d8e63",
   "metadata": {},
   "outputs": [],
   "source": [
    "lasso_p_opt = GridSearchCV(Lasso(), params).fit(X_p_train, y_p_train)"
   ]
  },
  {
   "cell_type": "code",
   "execution_count": 30,
   "id": "d856ab82",
   "metadata": {},
   "outputs": [
    {
     "name": "stdout",
     "output_type": "stream",
     "text": [
      "MAE: 0.5673416441032877\n",
      "MSE: 0.5137571709125421\n",
      "RMSE: 0.7167685616100514\n",
      "MAPE: 0.09933272749866909\n",
      "R^2: 0.293468974187136\n"
     ]
    }
   ],
   "source": [
    "lasso_p_opt.best_params_\n",
    "print_metrics(y_p_test, y_p_pred)"
   ]
  },
  {
   "attachments": {},
   "cell_type": "markdown",
   "id": "4865738b",
   "metadata": {},
   "source": [
    "##### Модель полиномиальной регрессии c регуляризацией L2 (Ridge)"
   ]
  },
  {
   "cell_type": "code",
   "execution_count": 25,
   "id": "f22c30c7",
   "metadata": {},
   "outputs": [
    {
     "name": "stdout",
     "output_type": "stream",
     "text": [
      "MAE: 0.5492368234259608\n",
      "MSE: 0.4861734895304933\n",
      "RMSE: 0.697261421226281\n",
      "MAPE: 0.09772189667553748\n",
      "R^2: 0.3526466296939035\n"
     ]
    }
   ],
   "source": [
    "ridge_p = Ridge(alpha=0.3).fit(X_p_train, y_p_train)\n",
    "y_p_pred = ridge_p.predict(X_p_test)\n",
    "print_metrics(y_p_test, y_p_pred)"
   ]
  },
  {
   "cell_type": "code",
   "execution_count": 26,
   "metadata": {},
   "outputs": [],
   "source": [
    "ridge_p_opt = GridSearchCV(Ridge(), params).fit(X_p_train, y_p_train)"
   ]
  },
  {
   "cell_type": "code",
   "execution_count": 27,
   "metadata": {},
   "outputs": [
    {
     "data": {
      "text/plain": [
       "{'alpha': 0.0}"
      ]
     },
     "execution_count": 27,
     "metadata": {},
     "output_type": "execute_result"
    }
   ],
   "source": [
    "ridge_p_opt.best_params_"
   ]
  },
  {
   "attachments": {},
   "cell_type": "markdown",
   "id": "3e864ba8",
   "metadata": {},
   "source": [
    "#### Лучшая модель: полиномиальная с L2 (Ridge)"
   ]
  },
  {
   "attachments": {},
   "cell_type": "markdown",
   "id": "7ea79764",
   "metadata": {},
   "source": [
    "#### Реализация модели линейной регрессии с регуляризацией L2 (Ridge)\n",
    "- самостоятельно реализуйте (желательно в виде класса) модель линейной регрессии с регуляризацией (можете выбрать L1 или L2);\n",
    "- самостоятельно реализуйте вычисление всех используемых метрик (в виде функций, принимающих два аргумента);\n",
    "- обучите вашу модель линейной регрессии на ваших данных; оцените качество с помощью реализованных вами метрик."
   ]
  },
  {
   "cell_type": "code",
   "execution_count": 28,
   "id": "779fcdb0",
   "metadata": {},
   "outputs": [
    {
     "data": {
      "text/plain": [
       "['c:\\\\Users\\\\podov\\\\Desktop\\\\Andrey\\\\Универ\\\\Машинное обучение\\\\ml-labs\\\\notebooks',\n",
       " 'C:\\\\Users\\\\podov\\\\AppData\\\\Local\\\\Programs\\\\Python\\\\Python39\\\\python39.zip',\n",
       " 'C:\\\\Users\\\\podov\\\\AppData\\\\Local\\\\Programs\\\\Python\\\\Python39\\\\DLLs',\n",
       " 'C:\\\\Users\\\\podov\\\\AppData\\\\Local\\\\Programs\\\\Python\\\\Python39\\\\lib',\n",
       " 'C:\\\\Users\\\\podov\\\\AppData\\\\Local\\\\Programs\\\\Python\\\\Python39',\n",
       " 'c:\\\\Users\\\\podov\\\\Desktop\\\\Andrey\\\\Универ\\\\Машинное обучение\\\\ml-labs\\\\venv',\n",
       " '',\n",
       " 'c:\\\\Users\\\\podov\\\\Desktop\\\\Andrey\\\\Универ\\\\Машинное обучение\\\\ml-labs\\\\venv\\\\lib\\\\site-packages',\n",
       " 'c:\\\\Users\\\\podov\\\\Desktop\\\\Andrey\\\\Универ\\\\Машинное обучение\\\\ml-labs\\\\venv\\\\lib\\\\site-packages\\\\win32',\n",
       " 'c:\\\\Users\\\\podov\\\\Desktop\\\\Andrey\\\\Универ\\\\Машинное обучение\\\\ml-labs\\\\venv\\\\lib\\\\site-packages\\\\win32\\\\lib',\n",
       " 'c:\\\\Users\\\\podov\\\\Desktop\\\\Andrey\\\\Универ\\\\Машинное обучение\\\\ml-labs\\\\venv\\\\lib\\\\site-packages\\\\Pythonwin',\n",
       " 'c:\\\\Users\\\\podov\\\\Desktop\\\\Andrey\\\\Универ\\\\Машинное обучение\\\\ml-labs']"
      ]
     },
     "execution_count": 28,
     "metadata": {},
     "output_type": "execute_result"
    }
   ],
   "source": [
    "import sys\n",
    "import os\n",
    "from pathlib import Path\n",
    "\n",
    "if (dir := str(Path(os.getcwd()).parent)) not in sys.path:\n",
    "    sys.path.append(dir)\n",
    "sys.path"
   ]
  },
  {
   "cell_type": "code",
   "execution_count": 29,
   "metadata": {},
   "outputs": [],
   "source": [
    "from mylib.ridge import Ridge as L2\n",
    "from mylib.metrics import Metrics"
   ]
  },
  {
   "attachments": {},
   "cell_type": "markdown",
   "id": "a5acb9d3",
   "metadata": {},
   "source": [
    "Проверка метрик на данных выше"
   ]
  },
  {
   "cell_type": "code",
   "execution_count": 30,
   "id": "5e8b8983",
   "metadata": {},
   "outputs": [
    {
     "name": "stdout",
     "output_type": "stream",
     "text": [
      "MAE:\t0.5492368234259608\n",
      "MSE:\t0.4861734895304933\n",
      "RMSE:\t0.697261421226281\n",
      "MAPE:\t0.09772189667553748\n",
      "R^2:\t0.3526466296939035\n"
     ]
    }
   ],
   "source": [
    "Metrics(y_p_test, y_p_pred)()"
   ]
  },
  {
   "cell_type": "code",
   "execution_count": 31,
   "id": "0871e3f4",
   "metadata": {},
   "outputs": [
    {
     "data": {
      "text/plain": [
       "((3248, 12), (3248,), (3249, 12), (3249,))"
      ]
     },
     "execution_count": 31,
     "metadata": {},
     "output_type": "execute_result"
    }
   ],
   "source": [
    "y = data['quality']\n",
    "X = data.drop(['quality'], axis=1)\n",
    "\n",
    "X_train, X_test, y_train, y_test = train_test_split(X, y, test_size=0.5)\n",
    "X_train.shape, y_train.shape, X_test.shape, y_test.shape"
   ]
  },
  {
   "cell_type": "code",
   "execution_count": 32,
   "id": "795d35d3",
   "metadata": {},
   "outputs": [],
   "source": [
    "ridge = L2(np.array(X_train), np.array(y_train), alpha=0.0, eps=0.01, y_test=y_test, X_test=np.c_[np.ones(len(X_test)), X_test])"
   ]
  },
  {
   "cell_type": "code",
   "execution_count": 33,
   "id": "40b1bf80",
   "metadata": {},
   "outputs": [
    {
     "name": "stdout",
     "output_type": "stream",
     "text": [
      "Iter 50\tR^2: -18531101.84511636\n",
      "Iter 100\tR^2: -4526968.07260018\n",
      "Iter 150\tR^2: -1992913.3071862727\n",
      "Iter 200\tR^2: -1114131.923183471\n",
      "Iter 250\tR^2: -709617.973113222\n",
      "Iter 300\tR^2: -490749.82736049104\n",
      "Iter 350\tR^2: -359194.4432687394\n",
      "Iter 400\tR^2: -274038.32361074537\n",
      "Iter 450\tR^2: -215794.18571133548\n",
      "Iter 500\tR^2: -174222.9461483515\n",
      "Iter 550\tR^2: -143527.28656520223\n",
      "Iter 600\tR^2: -120225.59381397894\n",
      "Iter 650\tR^2: -102124.815890557\n",
      "Iter 700\tR^2: -87787.99383064223\n",
      "Iter 750\tR^2: -76241.83249803625\n",
      "Iter 800\tR^2: -66808.17022008762\n",
      "Iter 850\tR^2: -59002.79936345201\n",
      "Iter 900\tR^2: -52472.54902571894\n",
      "Iter 950\tR^2: -46954.94687453452\n",
      "Iter 1000\tR^2: -42251.654386146285\n",
      "Iter 1050\tR^2: -38210.55256380372\n",
      "Iter 1100\tR^2: -34713.403017843215\n",
      "Iter 1150\tR^2: -31667.186442673534\n",
      "Iter 1200\tR^2: -28997.91753282872\n",
      "Iter 1250\tR^2: -26646.159189178903\n",
      "Iter 1300\tR^2: -24563.722804065277\n",
      "Iter 1350\tR^2: -22711.20939552452\n",
      "Iter 1400\tR^2: -21056.155407096856\n",
      "Iter 1450\tR^2: -19571.619070730074\n",
      "Iter 1500\tR^2: -18235.09167551798\n",
      "Iter 1550\tR^2: -17027.651147638648\n",
      "Iter 1600\tR^2: -15933.29823340501\n",
      "Iter 1650\tR^2: -14938.431629548199\n",
      "Iter 1700\tR^2: -14031.429802174986\n",
      "Iter 1750\tR^2: -13202.315420993731\n",
      "Iter 1800\tR^2: -12442.484276744586\n",
      "Iter 1850\tR^2: -11744.484905732674\n",
      "Iter 1900\tR^2: -11101.838369110641\n",
      "Iter 1950\tR^2: -10508.890041545474\n",
      "Iter 2000\tR^2: -9960.687076089891\n",
      "Iter 2050\tR^2: -9452.876587214507\n",
      "Iter 2100\tR^2: -8981.62064523381\n",
      "Iter 2150\tR^2: -8543.52498472969\n",
      "Iter 2200\tR^2: -8135.578956881185\n",
      "Iter 2250\tR^2: -7755.104744898567\n",
      "Iter 2300\tR^2: -7399.71424570962\n",
      "Iter 2350\tR^2: -7067.272324071153\n",
      "Iter 2400\tR^2: -6755.865385750123\n",
      "Iter 2450\tR^2: -6463.774408250055\n",
      "Iter 2500\tR^2: -6189.451721354969\n",
      "Iter 2550\tR^2: -5931.5009536567195\n",
      "Iter 2600\tR^2: -5688.659661494822\n",
      "Iter 2650\tR^2: -5459.784238233693\n",
      "Iter 2700\tR^2: -5243.836768323844\n",
      "Iter 2750\tR^2: -5039.87354511104\n",
      "Iter 2800\tR^2: -4847.035016211804\n",
      "Iter 2850\tR^2: -4664.536957314833\n",
      "Iter 2900\tR^2: -4491.6627059673265\n",
      "Iter 2950\tR^2: -4327.756312436862\n",
      "Iter 3000\tR^2: -4172.216486043776\n",
      "Iter 3050\tR^2: -4024.491233193556\n",
      "Iter 3100\tR^2: -3884.073098314667\n",
      "Iter 3150\tR^2: -3750.494931520779\n",
      "Iter 3200\tR^2: -3623.3261174705904\n",
      "Iter 3250\tR^2: -3502.1692089232583\n",
      "Iter 3300\tR^2: -3386.656916152516\n",
      "Iter 3350\tR^2: -3276.449409909945\n",
      "Iter 3400\tR^2: -3171.2319012005087\n",
      "Iter 3450\tR^2: -3070.7124659026454\n",
      "Iter 3500\tR^2: -2974.62008635664\n",
      "Iter 3550\tR^2: -2882.70288556299\n",
      "Iter 3600\tR^2: -2794.726532664218\n",
      "Iter 3650\tR^2: -2710.4728010019803\n",
      "Iter 3700\tR^2: -2629.738262307523\n",
      "Iter 3750\tR^2: -2552.3331025489156\n",
      "Iter 3800\tR^2: -2478.080046666325\n",
      "Iter 3850\tR^2: -2406.81338091374\n",
      "Iter 3900\tR^2: -2338.3780628225777\n",
      "Iter 3950\tR^2: -2272.628909936378\n",
      "Iter 4000\tR^2: -2209.4298594581232\n",
      "Iter 4050\tR^2: -2148.653291822229\n",
      "Iter 4100\tR^2: -2090.1794119678743\n",
      "Iter 4150\tR^2: -2033.8956827631403\n",
      "Iter 4200\tR^2: -1979.6963056225418\n",
      "Iter 4250\tR^2: -1927.4817438839505\n",
      "Iter 4300\tR^2: -1877.158284973772\n",
      "Iter 4350\tR^2: -1828.6376377990139\n",
      "Iter 4400\tR^2: -1781.836562168249\n",
      "Iter 4450\tR^2: -1736.6765273661447\n",
      "Iter 4500\tR^2: -1693.0833972931177\n",
      "Iter 4550\tR^2: -1650.9871398371795\n",
      "Iter 4600\tR^2: -1610.321558372771\n",
      "Iter 4650\tR^2: -1571.0240434847674\n",
      "Iter 4700\tR^2: -1533.0353431975766\n",
      "Iter 4750\tR^2: -1496.299350151963\n",
      "Iter 4800\tR^2: -1460.7629043179704\n",
      "Iter 4850\tR^2: -1426.3756099631219\n",
      "Iter 4900\tR^2: -1393.0896657125336\n",
      "Iter 4950\tR^2: -1360.8597066431946\n"
     ]
    }
   ],
   "source": [
    "ridge.fit()"
   ]
  },
  {
   "cell_type": "code",
   "execution_count": 34,
   "id": "ae9fee9e",
   "metadata": {},
   "outputs": [
    {
     "name": "stdout",
     "output_type": "stream",
     "text": [
      "MAE:\t28.033038202464187\n",
      "MSE:\t1045.07877828982\n",
      "RMSE:\t32.327678207533246\n",
      "MAPE:\t4.965863170541533\n",
      "R^2:\t-1329.6426574497586\n"
     ]
    }
   ],
   "source": [
    "Metrics(y_test, np.dot(np.c_[np.ones(X_test.shape[0]), X_test], ridge.get_w()))()\n",
    "# Metrics(y_test, np.dot(X_test, ridge.get_w()[1:]))()"
   ]
  },
  {
   "cell_type": "code",
   "execution_count": null,
   "id": "9b153be0",
   "metadata": {},
   "outputs": [],
   "source": []
  },
  {
   "cell_type": "code",
   "execution_count": null,
   "id": "f3081e63",
   "metadata": {},
   "outputs": [],
   "source": []
  },
  {
   "cell_type": "code",
   "execution_count": null,
   "id": "966956c6",
   "metadata": {},
   "outputs": [],
   "source": []
  },
  {
   "cell_type": "code",
   "execution_count": null,
   "id": "df643a30",
   "metadata": {},
   "outputs": [],
   "source": []
  },
  {
   "attachments": {
    "image.png": {
     "image/png": "[encoded data removed]"
    }
   },
   "cell_type": "markdown",
   "id": "bdc586de",
   "metadata": {},
   "source": [
    "![image.png](attachment:image.png)"
   ]
  },
  {
   "attachments": {
    "image.png": {
     "image/png": "[encoded data removed]"
    }
   },
   "cell_type": "markdown",
   "id": "eac79f2f",
   "metadata": {},
   "source": [
    "![image.png](attachment:image.png)"
   ]
  },
  {
   "attachments": {},
   "cell_type": "markdown",
   "id": "07c28773",
   "metadata": {},
   "source": [
    "15000 эпох - R^2: -8,.."
   ]
  },
  {
   "cell_type": "code",
   "execution_count": 35,
   "id": "df01a0a4",
   "metadata": {},
   "outputs": [
    {
     "data": {
      "text/plain": [
       "[0.002326820043811718,\n",
       " 0.01677200587900829,\n",
       " 0.0007764847304436272,\n",
       " 0.0007432237679062899,\n",
       " 0.012622807812794075,\n",
       " 0.00012831285468916441,\n",
       " 0.07133218515624307,\n",
       " 0.26921511149520544,\n",
       " 0.0023142016993300185,\n",
       " 0.0074903416643919835,\n",
       " 0.0012404586828695776,\n",
       " 0.024572985615185405,\n",
       " 0.0017651313513934314]"
      ]
     },
     "execution_count": 35,
     "metadata": {},
     "output_type": "execute_result"
    }
   ],
   "source": [
    "ridge.get_w().tolist()"
   ]
  },
  {
   "cell_type": "code",
   "execution_count": 36,
   "id": "c94f1bc5",
   "metadata": {},
   "outputs": [
    {
     "data": {
      "text/plain": [
       "[0.0005831556062010142,\n",
       " 0.004207894619511206,\n",
       " 0.00019388622975598054,\n",
       " 0.0001862258270161984,\n",
       " 0.0031823302404132008,\n",
       " 3.147118899082027e-05,\n",
       " 0.017992439638052474,\n",
       " 0.06738986706552429,\n",
       " 0.0005799858926779376,\n",
       " 0.001876983880654076,\n",
       " 0.00030905492027035207,\n",
       " 0.006167454799667152,\n",
       " 0.00044333251059096063]"
      ]
     },
     "execution_count": 36,
     "metadata": {},
     "output_type": "execute_result"
    }
   ],
   "source": [
    "a10000 = [0.0005831556062010142, 0.004207894619511206, 0.00019388622975598054, 0.0001862258270161984, 0.0031823302404132008, 3.147118899082027e-05, 0.017992439638052474, 0.06738986706552429, 0.0005799858926779376, 0.001876983880654076, 0.00030905492027035207, 0.006167454799667152, 0.00044333251059096063]\n",
    "# коэфы при t=10000\n",
    "a10000"
   ]
  },
  {
   "cell_type": "code",
   "execution_count": 37,
   "id": "9a0dbbec",
   "metadata": {},
   "outputs": [],
   "source": [
    "a11850 = [0.00035371075390846227,\n",
    " 0.0026868032659829425,\n",
    " 0.00013625008533083518,\n",
    " 0.00010320996893709257,\n",
    " 0.001007463213546249,\n",
    " 2.1626101932895124e-05,\n",
    " 0.006315379433358243,\n",
    " 0.020818609683778626,\n",
    " 0.0003516078077226528,\n",
    " 0.001152307412721723,\n",
    " 0.00020028266828402288,\n",
    " 0.003911752685851854,\n",
    " 0.00017189666659104456]"
   ]
  },
  {
   "cell_type": "code",
   "execution_count": 38,
   "id": "eba06a6a",
   "metadata": {},
   "outputs": [],
   "source": [
    "a13990 = [0.0005794872691599523,\n",
    " 0.004342573309062414,\n",
    " 0.00021603626925904544,\n",
    " 0.0001729111871063928,\n",
    " 0.002009213928792359,\n",
    " 3.464114785480587e-05,\n",
    " 0.012165352998524701,\n",
    " 0.04189654457504684,\n",
    " 0.0005761166053516315,\n",
    " 0.0018832399039194901,\n",
    " 0.00032451240990094614,\n",
    " 0.006340908719903635,\n",
    " 0.0003185256898366951]"
   ]
  },
  {
   "cell_type": "code",
   "execution_count": 39,
   "id": "c136c7f0",
   "metadata": {},
   "outputs": [],
   "source": [
    "a15000 = [0.0006092385244053693,\n",
    " 0.0046225533382514,\n",
    " 0.00023502487792770354,\n",
    " 0.00017852134576287705,\n",
    " 0.0017674952450035745,\n",
    " 3.749354575230174e-05,\n",
    " 0.010879119419118774,\n",
    " 0.035778443300405326,\n",
    " 0.0006056402239344057,\n",
    " 0.001985168044996785,\n",
    " 0.0003475593979131137,\n",
    " 0.00673558706528759,\n",
    " 0.0002942681389635051]"
   ]
  }
 ],
 "metadata": {
  "kernelspec": {
   "display_name": "Python 3 (ipykernel)",
   "language": "python",
   "name": "python3"
  },
  "language_info": {
   "codemirror_mode": {
    "name": "ipython",
    "version": 3
   },
   "file_extension": ".py",
   "mimetype": "text/x-python",
   "name": "python",
   "nbconvert_exporter": "python",
   "pygments_lexer": "ipython3",
   "version": "3.9.13"
  },
  "vscode": {
   "interpreter": {
    "hash": "1acb869e1260ea35bccaf15821dbfd3676bbf1642c01dbab5e6bcc72ab1e57e1"
   }
  }
 },
 "nbformat": 4,
 "nbformat_minor": 5
}
